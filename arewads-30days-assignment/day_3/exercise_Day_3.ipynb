{
 "cells": [
  {
   "cell_type": "markdown",
   "metadata": {},
   "source": [
    "# Exercise Day 3 "
   ]
  },
  {
   "cell_type": "markdown",
   "metadata": {},
   "source": [
    "##### Question 1 - 4"
   ]
  },
  {
   "cell_type": "code",
   "execution_count": 2,
   "metadata": {},
   "outputs": [
    {
     "name": "stdout",
     "output_type": "stream",
     "text": [
      "I am 29 years old\n",
      "I am also 1.8 meters tall\n",
      "Complex number = (3+4j)\n",
      "The area of the triangle is: 187.5\n"
     ]
    }
   ],
   "source": [
    "# Declaring variables\n",
    "age = 29\n",
    "print(f'I am {age} years old')\n",
    "\n",
    "height = 1.8\n",
    "print(f'I am also {height} meters tall')\n",
    "\n",
    "complex_num = 3 + 4j\n",
    "print(f'Complex number = {complex_num}')\n",
    "\n",
    "# Taking inputs of base and height from the user\n",
    "b = float(input(\"Enter the base of the triangle: \"))\n",
    "h = float(input(\"Enter the height of the triangle: \"))\n",
    "\n",
    "area = 0.5 * b * h\n",
    "print(f\"The area of the triangle is: {area}\")\n"
   ]
  },
  {
   "cell_type": "markdown",
   "metadata": {},
   "source": [
    "##### Question 5"
   ]
  },
  {
   "cell_type": "code",
   "execution_count": 4,
   "metadata": {},
   "outputs": [
    {
     "name": "stdout",
     "output_type": "stream",
     "text": [
      "The perimeter of the triangle is = 9.0\n"
     ]
    }
   ],
   "source": [
    "# Taking inputs for a, b, c from the user\n",
    "a = float(input(\"Enter side a: \"))\n",
    "b = float(input(\"Enter side b: \"))\n",
    "c = float(input(\"Enter side c: \"))\n",
    "\n",
    "perimeter = a + b + c\n",
    "\n",
    "print(f\"The perimeter of the triangle is = {perimeter}\")"
   ]
  },
  {
   "cell_type": "markdown",
   "metadata": {},
   "source": [
    "##### Question 6"
   ]
  },
  {
   "cell_type": "code",
   "execution_count": 5,
   "metadata": {},
   "outputs": [
    {
     "name": "stdout",
     "output_type": "stream",
     "text": [
      "The area of the rectangle is = 600.0\n",
      "The perimeter of the rectangle is = 100.0\n"
     ]
    }
   ],
   "source": [
    "# Taking inputs from the user\n",
    "length = float(input(\"Enter the length: \"))\n",
    "width = float(input(\"Enter the width: \"))\n",
    "\n",
    "# area of the rectangle\n",
    "area = length * width\n",
    "\n",
    "# perimeter of the rectangle\n",
    "perimeter = 2 * (length + width)\n",
    "\n",
    "print(f\"The area of the rectangle is = {area}\")\n",
    "print(f\"The perimeter of the rectangle is = {perimeter}\")"
   ]
  },
  {
   "cell_type": "markdown",
   "metadata": {},
   "source": [
    "##### Question 7"
   ]
  },
  {
   "cell_type": "code",
   "execution_count": 6,
   "metadata": {},
   "outputs": [
    {
     "name": "stdout",
     "output_type": "stream",
     "text": [
      "The area of the circle is: 1962.5\n",
      "The circumference of the circle is: 157.0\n"
     ]
    }
   ],
   "source": [
    "pi = 3.14\n",
    "\n",
    "# Taking radius input from user\n",
    "r = float(input(\"Enter the radius of the circle: \"))\n",
    "\n",
    "# area\n",
    "area = pi * r * r\n",
    "\n",
    "# circumference\n",
    "circum = 2 * pi * r\n",
    "\n",
    "print(f\"The area of the circle is: {area}\")\n",
    "print(f\"The circumference of the circle is: {circum}\")\n"
   ]
  },
  {
   "cell_type": "markdown",
   "metadata": {},
   "source": [
    "##### Question 8"
   ]
  },
  {
   "cell_type": "code",
   "execution_count": 8,
   "metadata": {},
   "outputs": [
    {
     "name": "stdout",
     "output_type": "stream",
     "text": [
      "The slope is: 2\n",
      "The y-intercept is: (0, -2)\n",
      "The x-intercept is: (2, 0)\n"
     ]
    }
   ],
   "source": [
    "equation: 'y = 2x - 2'\n",
    "\n",
    "slope = 2\n",
    "y_intercept = -2  \n",
    "x_intercept = 2  # x = 1 when y = 0\n",
    "\n",
    "print(f\"The slope is: {slope}\")\n",
    "print(f\"The y-intercept is: ({0}, {y_intercept})\")\n",
    "print(f\"The x-intercept is: ({x_intercept}, {0})\")"
   ]
  },
  {
   "cell_type": "markdown",
   "metadata": {},
   "source": [
    "##### Question 9"
   ]
  },
  {
   "cell_type": "code",
   "execution_count": 10,
   "metadata": {},
   "outputs": [
    {
     "name": "stdout",
     "output_type": "stream",
     "text": [
      "The slope = 2.0\n",
      "The Euclidean distance = 8.94\n"
     ]
    }
   ],
   "source": [
    "import math\n",
    "\n",
    "# Coordinates\n",
    "x1 = 2\n",
    "y1 = 2\n",
    "x2 = 6\n",
    "y2 = 10\n",
    "\n",
    "slope = (y2 - y1) / (x2 - x1)\n",
    "\n",
    "euc_dis = math.sqrt((x2 - x1)**2 + (y2 - y1)**2)\n",
    "\n",
    "print(f\"The slope = {slope}\")\n",
    "print(f\"The Euclidean distance = {euc_dis:.2f}\")"
   ]
  },
  {
   "cell_type": "markdown",
   "metadata": {},
   "source": [
    "##### Question 10"
   ]
  },
  {
   "cell_type": "code",
   "execution_count": 13,
   "metadata": {},
   "outputs": [
    {
     "name": "stdout",
     "output_type": "stream",
     "text": [
      "Task 8 and Task 9 slopes are equal.\n"
     ]
    }
   ],
   "source": [
    "slope_task8 = 2\n",
    "slope_task9 = 2\n",
    "#Comparing slopes\n",
    "if slope_task8 > slope_task9:\n",
    "    print(\"Task 8 slope is bigger than task 9 slope.\")\n",
    "elif slope_task8 < slope_task9:\n",
    "        print('Task 9 slope is bigger than task 8 slope')\n",
    "else:\n",
    "    print(\"Task 8 and Task 9 slopes are equal.\")"
   ]
  },
  {
   "cell_type": "markdown",
   "metadata": {},
   "source": [
    "##### Question 11"
   ]
  },
  {
   "cell_type": "code",
   "execution_count": 15,
   "metadata": {},
   "outputs": [
    {
     "name": "stdout",
     "output_type": "stream",
     "text": [
      "At the point x = -3, y = 0\n"
     ]
    }
   ],
   "source": [
    "# Defining the equation y = x^2 + 6x + 9\n",
    "def equation(x):\n",
    "    return x**2 + 6*x + 9\n",
    "\n",
    "for x_value in range(-10, 11):\n",
    "    y_value = equation(x_value)\n",
    "    if y_value == 0:\n",
    "        print(f\"At the point x = {x_value}, y = 0\")"
   ]
  },
  {
   "cell_type": "markdown",
   "metadata": {},
   "source": [
    "##### Question 12"
   ]
  },
  {
   "cell_type": "code",
   "execution_count": 16,
   "metadata": {},
   "outputs": [
    {
     "name": "stdout",
     "output_type": "stream",
     "text": [
      "The length of 'python' and 'dragon' are the same.\n"
     ]
    }
   ],
   "source": [
    "# Finding the length of 'python' and 'dragon'\n",
    "length_python = len('python')\n",
    "length_dragon = len('dragon')\n",
    "if length_python != length_dragon:\n",
    "    print(\"The lengths of 'python' and 'dragon' are different.\")\n",
    "else:\n",
    "    print(\"The length of 'python' and 'dragon' are the same.\")"
   ]
  },
  {
   "cell_type": "markdown",
   "metadata": {},
   "source": [
    "##### Question 13"
   ]
  },
  {
   "cell_type": "code",
   "execution_count": 19,
   "metadata": {},
   "outputs": [
    {
     "name": "stdout",
     "output_type": "stream",
     "text": [
      "'on' is found in both 'python' and 'dragon'.\n"
     ]
    }
   ],
   "source": [
    "# Checking if 'on' is found in both 'python' and 'dragon'\n",
    "str1 = 'python'\n",
    "str2 = 'dragon'\n",
    "\n",
    "check_str1 = 'on' in str1\n",
    "check_str2 = 'on' in str2\n",
    "\n",
    "if check_str1 and check_str2:\n",
    "    print(\"'on' is found in both 'python' and 'dragon'.\")\n",
    "else:\n",
    "    print(\"'on' is not found in both 'python' and 'dragon'.\")"
   ]
  },
  {
   "cell_type": "markdown",
   "metadata": {},
   "source": [
    "##### Question 14"
   ]
  },
  {
   "cell_type": "code",
   "execution_count": 20,
   "metadata": {},
   "outputs": [
    {
     "name": "stdout",
     "output_type": "stream",
     "text": [
      "The word 'jargon' is present in the sentence.\n"
     ]
    }
   ],
   "source": [
    "# Checking if 'jargon' is in the sentence\n",
    "sentence = 'I hope this course is not full of jargon'\n",
    "\n",
    "if 'jargon' in sentence:\n",
    "    print(\"The word 'jargon' is present in the sentence.\")\n",
    "else:\n",
    "    print(\"The word 'jargon' is not present in the sentence.\")"
   ]
  },
  {
   "cell_type": "markdown",
   "metadata": {},
   "source": [
    "##### Question 15"
   ]
  },
  {
   "cell_type": "code",
   "execution_count": 21,
   "metadata": {},
   "outputs": [
    {
     "name": "stdout",
     "output_type": "stream",
     "text": [
      "There is 'on' in either 'dragon' or 'python'.\n"
     ]
    }
   ],
   "source": [
    "# Checking if 'on' is not in both 'dragon' and 'python'\n",
    "str1 = 'dragon'\n",
    "str2 = 'python'\n",
    "\n",
    "if 'on' not in str1 and 'on' not in str2:\n",
    "    print(\"There is no 'on' in both 'dragon' and 'python'.\")\n",
    "else:\n",
    "    print(\"There is 'on' in either 'dragon' or 'python'.\")"
   ]
  },
  {
   "cell_type": "markdown",
   "metadata": {},
   "source": [
    "##### Question 16"
   ]
  },
  {
   "cell_type": "code",
   "execution_count": 23,
   "metadata": {},
   "outputs": [
    {
     "name": "stdout",
     "output_type": "stream",
     "text": [
      "Length of 'python': 6\n",
      "Length as float: 6.0\n",
      "Float as string: 6.0\n"
     ]
    }
   ],
   "source": [
    "# Finding the length of the text 'python'\n",
    "txt_len = len('python')\n",
    "\n",
    "# Convert the length to a float value\n",
    "len_to_flt = float(txt_len)\n",
    "\n",
    "# Convert the float value back to a string\n",
    "flt_as_str = str(len_to_flt)\n",
    "\n",
    "print(f\"Length of 'python': {txt_len}\")\n",
    "print(f\"Length as float: {len_to_flt}\")\n",
    "print(f\"Float as string: {flt_as_str}\")"
   ]
  },
  {
   "cell_type": "markdown",
   "metadata": {},
   "source": [
    "##### Qustion 17"
   ]
  },
  {
   "cell_type": "code",
   "execution_count": 24,
   "metadata": {},
   "outputs": [
    {
     "name": "stdout",
     "output_type": "stream",
     "text": [
      "2 is even: True\n",
      "3 is even: False\n"
     ]
    }
   ],
   "source": [
    "# checking if a number is even or not\n",
    "def is_even(number):\n",
    "    if number % 2 == 0:\n",
    "        return True\n",
    "    else:\n",
    "        return False\n",
    "\n",
    "num1 = int(input('Enter the first number'))\n",
    "num2 = int(input('Enter the second number'))\n",
    "\n",
    "print(f\"{num1} is even: {is_even(num1)}\")\n",
    "print(f\"{num2} is even: {is_even(num2)}\")"
   ]
  },
  {
   "cell_type": "markdown",
   "metadata": {},
   "source": [
    "##### Question 18"
   ]
  },
  {
   "cell_type": "code",
   "execution_count": 25,
   "metadata": {},
   "outputs": [
    {
     "name": "stdout",
     "output_type": "stream",
     "text": [
      "The floor division of 7 by 3 is equal to the int converted value of 2.7\n"
     ]
    }
   ],
   "source": [
    "# Check if the floor division of 7 by 3 is equal to the int converted value of 2.7\n",
    "floor_div = 7 // 3\n",
    "int_value = int(2.7)\n",
    "\n",
    "if floor_div == int_value:\n",
    "    print(\"The floor division of 7 by 3 is equal to the int converted value of 2.7\")\n",
    "else:\n",
    "    print(\"The floor division of 7 by 3 is not equal to the int converted value of 2.7\")"
   ]
  },
  {
   "cell_type": "markdown",
   "metadata": {},
   "source": [
    "##### Question 19"
   ]
  },
  {
   "cell_type": "code",
   "execution_count": 29,
   "metadata": {},
   "outputs": [
    {
     "name": "stdout",
     "output_type": "stream",
     "text": [
      "The type of '10' is not equal to the type of 10\n"
     ]
    }
   ],
   "source": [
    "# Checking if type of ('10') is equal to type of 10\n",
    "str = '10'\n",
    "int = 10\n",
    "\n",
    "if str == int:\n",
    "    print(\"The type of '10' is equal to the type of 10\")\n",
    "else:\n",
    "    print(\"The type of '10' is not equal to the type of 10\")"
   ]
  },
  {
   "cell_type": "markdown",
   "metadata": {},
   "source": [
    "##### Question 20"
   ]
  },
  {
   "cell_type": "code",
   "execution_count": 28,
   "metadata": {},
   "outputs": [
    {
     "name": "stdout",
     "output_type": "stream",
     "text": [
      "The type of '10' is not equal to the type of 10\n"
     ]
    }
   ],
   "source": [
    "# Checking if ('9.8') is equal to type of 10\n",
    "str = ('9.8')\n",
    "int = 10\n",
    "\n",
    "if str == int:\n",
    "    print(\"The type of '10' is equal to the type of 10\")\n",
    "else:\n",
    "    print(\"The type of '10' is not equal to the type of 10\")"
   ]
  },
  {
   "cell_type": "markdown",
   "metadata": {},
   "source": [
    "##### Question 21"
   ]
  },
  {
   "cell_type": "code",
   "execution_count": 36,
   "metadata": {},
   "outputs": [
    {
     "name": "stdout",
     "output_type": "stream",
     "text": [
      "Your weekly pay is: 250.0\n"
     ]
    }
   ],
   "source": [
    "# Taking input from the user\n",
    "worked = float(input(\"Enter the number of hours worked: \"))\n",
    "rate = float(input(\"Enter the rate per hour: \"))\n",
    "\n",
    "total_pay = worked * rate\n",
    "\n",
    "print(f\"Your weekly pay is: {total_pay}\")"
   ]
  },
  {
   "cell_type": "markdown",
   "metadata": {},
   "source": [
    "##### Question 22"
   ]
  },
  {
   "cell_type": "code",
   "execution_count": 37,
   "metadata": {},
   "outputs": [
    {
     "name": "stdout",
     "output_type": "stream",
     "text": [
      "A person can live 3,153,600,000 seconds in 100 years.\n",
      "Based on 40.0 years, you've lived or will live 1,261,440,000.0 seconds.\n"
     ]
    }
   ],
   "source": [
    "# Taking input from user\n",
    "my_years = float(input(\"Enter the number of years: \"))\n",
    "\n",
    "seconds_per_year = 365 * 24 * 60 * 60\n",
    "total_seconds = my_years * seconds_per_year\n",
    "\n",
    "total_seconds_lifetime = 100 * seconds_per_year\n",
    "\n",
    "print(f\"A person can live {total_seconds_lifetime:,} seconds in 100 years.\")\n",
    "print(f\"Based on {my_years} years, you've lived or will live {total_seconds:,} seconds.\")"
   ]
  },
  {
   "cell_type": "markdown",
   "metadata": {},
   "source": [
    "##### Question 23"
   ]
  },
  {
   "cell_type": "code",
   "execution_count": 39,
   "metadata": {},
   "outputs": [
    {
     "name": "stdout",
     "output_type": "stream",
     "text": [
      "1 1 1 1 1\n",
      "2 1 2 4 8\n",
      "3 1 3 9 27\n",
      "4 1 4 16 64\n",
      "5 1 5 25 125\n"
     ]
    }
   ],
   "source": [
    "# table\n",
    "print(\"1 1 1 1 1\")\n",
    "print(\"2 1 2 4 8\")\n",
    "print(\"3 1 3 9 27\")\n",
    "print(\"4 1 4 16 64\")\n",
    "print(\"5 1 5 25 125\")"
   ]
  }
 ],
 "metadata": {
  "kernelspec": {
   "display_name": "base",
   "language": "python",
   "name": "python3"
  },
  "language_info": {
   "codemirror_mode": {
    "name": "ipython",
    "version": 3
   },
   "file_extension": ".py",
   "mimetype": "text/x-python",
   "name": "python",
   "nbconvert_exporter": "python",
   "pygments_lexer": "ipython3",
   "version": "3.11.5"
  }
 },
 "nbformat": 4,
 "nbformat_minor": 2
}
