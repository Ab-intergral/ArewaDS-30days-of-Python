{
 "cells": [
  {
   "cell_type": "markdown",
   "metadata": {},
   "source": [
    "# Exercise: Level 1"
   ]
  },
  {
   "cell_type": "markdown",
   "metadata": {},
   "source": [
    "##### Question 1"
   ]
  },
  {
   "cell_type": "code",
   "execution_count": 8,
   "metadata": {},
   "outputs": [
    {
     "name": "stdout",
     "output_type": "stream",
     "text": [
      "The most frequent word is 'love' with 6 occurrences.\n"
     ]
    }
   ],
   "source": [
    "# What is the most frequent word in the following paragraph?\n",
    "from collections import Counter\n",
    "import re\n",
    "\n",
    "paragraph = 'I love teaching. If you do not love teaching what else can you love. I love Python if you do not love something which can give you all the capabilities to develop an application what else can you love.'\n",
    "\n",
    "# Remove punctuation and convert all words to lowercase\n",
    "words = re.findall(r'\\b\\w+\\b', paragraph.lower())\n",
    "\n",
    "# Count occurrences of each word\n",
    "word_counts = Counter(words)\n",
    "\n",
    "# Find the most common word\n",
    "most_common_word = word_counts.most_common(1)[0]\n",
    "\n",
    "print(f\"The most frequent word is '{most_common_word[0]}' with {most_common_word[1]} occurrences.\")"
   ]
  },
  {
   "cell_type": "markdown",
   "metadata": {},
   "source": [
    "##### Question 2"
   ]
  },
  {
   "cell_type": "code",
   "execution_count": 9,
   "metadata": {},
   "outputs": [
    {
     "name": "stdout",
     "output_type": "stream",
     "text": [
      "The furthest distance between particles is: 20\n"
     ]
    }
   ],
   "source": [
    "# The position of some particles on the horizontal x-axis are -12, -4, -3 and -1 \n",
    "# in the negative direction, 0 at origin, 4 and 8 in the positive direction. \n",
    "# Extract these numbers from this whole text and find the distance between the two furthest particles.\n",
    "import re\n",
    "\n",
    "text = \"The position of some particles on the horizontal x-axis are -12, -4, -3 and -1 in the negative direction, 0 at origin, 4 and 8 in the positive direction.\"\n",
    "\n",
    "# Extract numerical values from the text\n",
    "numbers = re.findall(r'-?\\d+', text)\n",
    "\n",
    "# Convert the extracted strings to integers\n",
    "numbers = [int(num) for num in numbers]\n",
    "\n",
    "# Find the maximum and minimum values\n",
    "max_value = max(numbers)\n",
    "min_value = min(numbers)\n",
    "\n",
    "# Calculate the distance between the furthest particles\n",
    "distance = max_value - min_value\n",
    "\n",
    "print(f\"The furthest distance between particles is: {distance}\")"
   ]
  },
  {
   "cell_type": "markdown",
   "metadata": {},
   "source": [
    "# Exercise: Level 2"
   ]
  },
  {
   "cell_type": "markdown",
   "metadata": {},
   "source": [
    "##### Question 1"
   ]
  },
  {
   "cell_type": "code",
   "execution_count": 10,
   "metadata": {},
   "outputs": [
    {
     "name": "stdout",
     "output_type": "stream",
     "text": [
      "True\n",
      "False\n",
      "False\n",
      "True\n"
     ]
    }
   ],
   "source": [
    "# Write a pattern which identifies if a string is a valid python variable\n",
    "import re\n",
    "\n",
    "def is_valid_variable(variable_name):\n",
    "    pattern = r'^[a-zA-Z_][a-zA-Z0-9_]*$'\n",
    "    return bool(re.match(pattern, variable_name))\n",
    "\n",
    "print(is_valid_variable('first_name'))\n",
    "print(is_valid_variable('first-name'))\n",
    "print(is_valid_variable('1first_name')) \n",
    "print(is_valid_variable('firstname'))"
   ]
  },
  {
   "cell_type": "markdown",
   "metadata": {},
   "source": [
    "# Exercise: Level 3"
   ]
  },
  {
   "cell_type": "markdown",
   "metadata": {},
   "source": [
    "##### Question 1"
   ]
  },
  {
   "cell_type": "code",
   "execution_count": 11,
   "metadata": {},
   "outputs": [
    {
     "name": "stdout",
     "output_type": "stream",
     "text": [
      "I am a teacher and I love teaching There is nothing as more rewarding as educating and empowering people I found teaching more interesting than any other jobs Does this motivate you to be a teacher\n",
      "[('I', 3), ('a', 2), ('teacher', 2)]\n"
     ]
    }
   ],
   "source": [
    "from collections import Counter\n",
    "import re\n",
    "\n",
    "def clean_text(text):\n",
    "    cleaned_text = re.sub(r'[^A-Za-z\\s]', '', text)  # Remove special characters\n",
    "    cleaned_text = re.sub(r'\\s+', ' ', cleaned_text)  # Remove extra spaces\n",
    "    return cleaned_text.strip()\n",
    "\n",
    "def most_frequent_words(text):\n",
    "    words = text.split()\n",
    "    word_counts = Counter(words)\n",
    "    return word_counts.most_common(3)\n",
    "\n",
    "sentence = '''%I $am@% a %tea@cher%, &and& I lo%#ve %tea@ching%;. There $is nothing; &as& mo@re rewarding as educa@ting &and& @emp%o@wering peo@ple. ;I found tea@ching m%o@re interesting tha@n any other %jo@bs. %Do@es thi%s mo@tivate yo@u to be a tea@cher!?'''\n",
    "\n",
    "cleaned_text = clean_text(sentence)\n",
    "print(cleaned_text)\n",
    "# Find the three most frequent words\n",
    "print(most_frequent_words(cleaned_text))"
   ]
  }
 ],
 "metadata": {
  "kernelspec": {
   "display_name": "Python 3",
   "language": "python",
   "name": "python3"
  },
  "language_info": {
   "codemirror_mode": {
    "name": "ipython",
    "version": 3
   },
   "file_extension": ".py",
   "mimetype": "text/x-python",
   "name": "python",
   "nbconvert_exporter": "python",
   "pygments_lexer": "ipython3",
   "version": "3.12.1"
  }
 },
 "nbformat": 4,
 "nbformat_minor": 2
}
