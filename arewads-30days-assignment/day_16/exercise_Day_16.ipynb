{
 "cells": [
  {
   "cell_type": "markdown",
   "metadata": {},
   "source": [
    "# Exercise: Level 1"
   ]
  },
  {
   "cell_type": "markdown",
   "metadata": {},
   "source": [
    "##### Question 1 and 2"
   ]
  },
  {
   "cell_type": "code",
   "execution_count": 15,
   "metadata": {},
   "outputs": [
    {
     "name": "stdout",
     "output_type": "stream",
     "text": [
      "Current date and time: 12/20/2023, 11:58:10\n"
     ]
    }
   ],
   "source": [
    "from datetime import datetime, timedelta\n",
    "\n",
    "# Get current date and time\n",
    "current_datetime = datetime.now()\n",
    "# Formatting \n",
    "current_date_formatted = current_datetime.strftime(\"%m/%d/%Y, %H:%M:%S\")\n",
    "\n",
    "print(\"Current date and time:\", current_date_formatted)"
   ]
  },
  {
   "cell_type": "markdown",
   "metadata": {},
   "source": [
    "##### Question 3"
   ]
  },
  {
   "cell_type": "code",
   "execution_count": 16,
   "metadata": {},
   "outputs": [
    {
     "name": "stdout",
     "output_type": "stream",
     "text": [
      "Time string converted to time: 00:00:00\n"
     ]
    }
   ],
   "source": [
    "# Convert a time string to time\n",
    "time_string = \"5 December, 2019\"\n",
    "time_converted = datetime.strptime(time_string, \"%d %B, %Y\")\n",
    "print(\"Time string converted to time:\", time_converted.time())"
   ]
  },
  {
   "cell_type": "markdown",
   "metadata": {},
   "source": [
    "##### Question 4"
   ]
  },
  {
   "cell_type": "code",
   "execution_count": 17,
   "metadata": {},
   "outputs": [
    {
     "name": "stdout",
     "output_type": "stream",
     "text": [
      "Time until New Year: 11 days, 12:01:49.668880\n"
     ]
    }
   ],
   "source": [
    "# Calculate time difference between now and New Year\n",
    "new_year = datetime(current_datetime.year + 1, 1, 1)\n",
    "time_until_new_year = new_year - current_datetime\n",
    "print(\"Time until New Year:\", time_until_new_year)"
   ]
  },
  {
   "cell_type": "markdown",
   "metadata": {},
   "source": [
    "##### Question 5"
   ]
  },
  {
   "cell_type": "code",
   "execution_count": 18,
   "metadata": {},
   "outputs": [
    {
     "name": "stdout",
     "output_type": "stream",
     "text": [
      "Time since 1 January 1970: 19711 days, 11:58:10.331120\n"
     ]
    }
   ],
   "source": [
    "# Calculate time difference between 1 January 1970 and now\n",
    "time_since_epoch = current_datetime - datetime(1970, 1, 1)\n",
    "print(\"Time since 1 January 1970:\", time_since_epoch)"
   ]
  },
  {
   "cell_type": "markdown",
   "metadata": {},
   "source": [
    "##### Question 6"
   ]
  },
  {
   "cell_type": "markdown",
   "metadata": {},
   "source": [
    "### What you can use the datetime module for:\n",
    "###### - Time series analysis\n",
    "###### - Logging timestamps for activities in an application\n",
    "###### - Date and time-based operations in blog posts or other content management systems"
   ]
  }
 ],
 "metadata": {
  "kernelspec": {
   "display_name": "Python 3",
   "language": "python",
   "name": "python3"
  },
  "language_info": {
   "codemirror_mode": {
    "name": "ipython",
    "version": 3
   },
   "file_extension": ".py",
   "mimetype": "text/x-python",
   "name": "python",
   "nbconvert_exporter": "python",
   "pygments_lexer": "ipython3",
   "version": "3.12.1"
  }
 },
 "nbformat": 4,
 "nbformat_minor": 2
}
