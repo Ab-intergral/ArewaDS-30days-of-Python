{
 "cells": [
  {
   "cell_type": "markdown",
   "metadata": {},
   "source": [
    "# Exercise: Level 1"
   ]
  },
  {
   "cell_type": "markdown",
   "metadata": {},
   "source": [
    "##### Question 1"
   ]
  },
  {
   "cell_type": "code",
   "execution_count": 9,
   "metadata": {},
   "outputs": [
    {
     "name": "stdout",
     "output_type": "stream",
     "text": [
      "The Length of it_companies: 7\n"
     ]
    }
   ],
   "source": [
    "# Given data\n",
    "it_companies = {'Facebook', 'Google', 'Microsoft', 'Apple', 'IBM', 'Oracle', 'Amazon'}\n",
    "A = {19, 22, 24, 20, 25, 26}\n",
    "B = {19, 22, 20, 25, 26, 24, 28, 27}\n",
    "age = [22, 19, 24, 25, 26, 24, 25, 24]\n",
    "\n",
    "# # 1. Find the length of the set it_companies\n",
    "length_it_companies = len(it_companies)\n",
    "print(\"The Length of it_companies:\", length_it_companies)"
   ]
  },
  {
   "cell_type": "markdown",
   "metadata": {},
   "source": [
    "##### Question 2"
   ]
  },
  {
   "cell_type": "code",
   "execution_count": 10,
   "metadata": {},
   "outputs": [
    {
     "name": "stdout",
     "output_type": "stream",
     "text": [
      "it_companies after adding 'Twitter': {'Microsoft', 'Oracle', 'Google', 'Twitter', 'Apple', 'Amazon', 'Facebook', 'IBM'}\n"
     ]
    }
   ],
   "source": [
    "# Add 'Twitter' to it_companies\n",
    "it_companies.add('Twitter')\n",
    "print(\"it_companies after adding 'Twitter':\", it_companies)"
   ]
  },
  {
   "cell_type": "markdown",
   "metadata": {},
   "source": [
    "##### Question 3"
   ]
  },
  {
   "cell_type": "code",
   "execution_count": 11,
   "metadata": {},
   "outputs": [
    {
     "name": "stdout",
     "output_type": "stream",
     "text": [
      "{'Oracle', 'Twitter', 'Nvidia', 'Microsoft', 'Intel', 'Apple', 'Amazon', 'Google', 'Dell', 'Facebook', 'IBM'}\n"
     ]
    }
   ],
   "source": [
    "# Insert multiple IT companies at once to the set it_companies\n",
    "it_companies.update(['Intel', 'Nvidia', 'Dell'])\n",
    "print(it_companies)"
   ]
  },
  {
   "cell_type": "markdown",
   "metadata": {},
   "source": [
    "##### Question 4"
   ]
  },
  {
   "cell_type": "code",
   "execution_count": 12,
   "metadata": {},
   "outputs": [
    {
     "name": "stdout",
     "output_type": "stream",
     "text": [
      "{'Oracle', 'Twitter', 'Nvidia', 'Microsoft', 'Intel', 'Apple', 'Amazon', 'Google', 'Dell', 'Facebook'}\n"
     ]
    }
   ],
   "source": [
    "# Remove one of the companies from the set it_companies\n",
    "it_companies.remove('IBM')\n",
    "print(it_companies)"
   ]
  },
  {
   "cell_type": "markdown",
   "metadata": {},
   "source": [
    "##### Question 5"
   ]
  },
  {
   "cell_type": "code",
   "execution_count": 13,
   "metadata": {},
   "outputs": [
    {
     "ename": "KeyError",
     "evalue": "'Samsung'",
     "output_type": "error",
     "traceback": [
      "\u001b[1;31m---------------------------------------------------------------------------\u001b[0m",
      "\u001b[1;31mKeyError\u001b[0m                                  Traceback (most recent call last)",
      "\u001b[1;32mc:\\Users\\FAISAL\\Desktop\\Arewa-data-science\\ArewaDS-30days-of-Python\\arewads-30days-assignment\\day_7\\exercise_Day_7.ipynb Cell 11\u001b[0m line \u001b[0;36m4\n\u001b[0;32m      <a href='vscode-notebook-cell:/c%3A/Users/FAISAL/Desktop/Arewa-data-science/ArewaDS-30days-of-Python/arewads-30days-assignment/day_7/exercise_Day_7.ipynb#X13sZmlsZQ%3D%3D?line=0'>1</a>\u001b[0m \u001b[39m# What is the difference between remove and discard\u001b[39;00m\n\u001b[0;32m      <a href='vscode-notebook-cell:/c%3A/Users/FAISAL/Desktop/Arewa-data-science/ArewaDS-30days-of-Python/arewads-30days-assignment/day_7/exercise_Day_7.ipynb#X13sZmlsZQ%3D%3D?line=1'>2</a>\u001b[0m \u001b[39m# `remove` raises an error if the element doesn't exist, while `discard` doesn't.\u001b[39;00m\n\u001b[0;32m      <a href='vscode-notebook-cell:/c%3A/Users/FAISAL/Desktop/Arewa-data-science/ArewaDS-30days-of-Python/arewads-30days-assignment/day_7/exercise_Day_7.ipynb#X13sZmlsZQ%3D%3D?line=2'>3</a>\u001b[0m \u001b[39m# For example:\u001b[39;00m\n\u001b[1;32m----> <a href='vscode-notebook-cell:/c%3A/Users/FAISAL/Desktop/Arewa-data-science/ArewaDS-30days-of-Python/arewads-30days-assignment/day_7/exercise_Day_7.ipynb#X13sZmlsZQ%3D%3D?line=3'>4</a>\u001b[0m it_companies\u001b[39m.\u001b[39;49mremove(\u001b[39m'\u001b[39;49m\u001b[39mSamsung\u001b[39;49m\u001b[39m'\u001b[39;49m)  \u001b[39m# This line would raise an error if 'Samsung' doesn't exist\u001b[39;00m\n\u001b[0;32m      <a href='vscode-notebook-cell:/c%3A/Users/FAISAL/Desktop/Arewa-data-science/ArewaDS-30days-of-Python/arewads-30days-assignment/day_7/exercise_Day_7.ipynb#X13sZmlsZQ%3D%3D?line=4'>5</a>\u001b[0m \u001b[39mprint\u001b[39m(it_companies)\n",
      "\u001b[1;31mKeyError\u001b[0m: 'Samsung'"
     ]
    }
   ],
   "source": [
    "# What is the difference between remove and discard\n",
    "# `remove` raises an error if the element doesn't exist, while `discard` doesn't.\n",
    "# For example:\n",
    "it_companies.remove('Samsung')  # This line would raise an error if 'Samsung' doesn't exist\n",
    "print(it_companies)"
   ]
  },
  {
   "cell_type": "code",
   "execution_count": 14,
   "metadata": {},
   "outputs": [
    {
     "name": "stdout",
     "output_type": "stream",
     "text": [
      "{'Oracle', 'Twitter', 'Nvidia', 'Microsoft', 'Intel', 'Apple', 'Amazon', 'Google', 'Dell', 'Facebook'}\n"
     ]
    }
   ],
   "source": [
    "# it_companies.discard('Samsung')  # This line wouldn't raise an error if 'Samsung' doesn't exist\n",
    "print(it_companies)"
   ]
  },
  {
   "cell_type": "markdown",
   "metadata": {},
   "source": [
    "# Exercise: Level 2"
   ]
  },
  {
   "cell_type": "markdown",
   "metadata": {},
   "source": [
    "##### Question 1"
   ]
  },
  {
   "cell_type": "code",
   "execution_count": 15,
   "metadata": {},
   "outputs": [
    {
     "name": "stdout",
     "output_type": "stream",
     "text": [
      "Union of A and B = {19, 20, 22, 24, 25, 26, 27, 28}\n"
     ]
    }
   ],
   "source": [
    "# Join A and B\n",
    "joined_set = A.union(B)\n",
    "print(\"Union of A and B =\", joined_set)"
   ]
  },
  {
   "cell_type": "markdown",
   "metadata": {},
   "source": [
    "##### Question 2"
   ]
  },
  {
   "cell_type": "code",
   "execution_count": 16,
   "metadata": {},
   "outputs": [
    {
     "name": "stdout",
     "output_type": "stream",
     "text": [
      "Intersection of A and B = {19, 20, 22, 24, 25, 26}\n"
     ]
    }
   ],
   "source": [
    "# Find A intersection B\n",
    "intersection = A.intersection(B)\n",
    "print(\"Intersection of A and B =\", intersection)"
   ]
  },
  {
   "cell_type": "markdown",
   "metadata": {},
   "source": [
    "##### Question 3"
   ]
  },
  {
   "cell_type": "code",
   "execution_count": 17,
   "metadata": {},
   "outputs": [
    {
     "name": "stdout",
     "output_type": "stream",
     "text": [
      "Is A a subset of B: True\n"
     ]
    }
   ],
   "source": [
    "# Is A subset of B\n",
    "is_subset = A.issubset(B)\n",
    "print(\"Is A a subset of B:\", is_subset)"
   ]
  },
  {
   "cell_type": "markdown",
   "metadata": {},
   "source": [
    "##### Question 4"
   ]
  },
  {
   "cell_type": "code",
   "execution_count": 18,
   "metadata": {},
   "outputs": [
    {
     "name": "stdout",
     "output_type": "stream",
     "text": [
      "Are A and B disjoint sets: False\n"
     ]
    }
   ],
   "source": [
    "# Are A and B disjoint sets\n",
    "are_disjoint = A.isdisjoint(B)\n",
    "print(\"Are A and B disjoint sets:\", are_disjoint)"
   ]
  },
  {
   "cell_type": "markdown",
   "metadata": {},
   "source": [
    "##### Question 5"
   ]
  },
  {
   "cell_type": "code",
   "execution_count": 19,
   "metadata": {},
   "outputs": [
    {
     "name": "stdout",
     "output_type": "stream",
     "text": [
      "A after joining with B: {19, 20, 22, 24, 25, 26, 27, 28}\n",
      "B after joining with A: {19, 20, 22, 24, 25, 26, 27, 28}\n"
     ]
    }
   ],
   "source": [
    "# Join A with B and B with A\n",
    "A.update(B)\n",
    "B.update(A)\n",
    "print(\"A after joining with B:\", A)\n",
    "print(\"B after joining with A:\", B)"
   ]
  },
  {
   "cell_type": "markdown",
   "metadata": {},
   "source": [
    "##### Question 6"
   ]
  },
  {
   "cell_type": "code",
   "execution_count": 20,
   "metadata": {},
   "outputs": [
    {
     "name": "stdout",
     "output_type": "stream",
     "text": [
      "Symmetric difference between A and B = set()\n"
     ]
    }
   ],
   "source": [
    "# What is the symmetric difference between A and B\n",
    "symmetric_difference = A.symmetric_difference(B)\n",
    "print(\"Symmetric difference between A and B =\", symmetric_difference)"
   ]
  },
  {
   "cell_type": "markdown",
   "metadata": {},
   "source": [
    "##### Question 7"
   ]
  },
  {
   "cell_type": "code",
   "execution_count": 21,
   "metadata": {},
   "outputs": [],
   "source": [
    "# Delete the sets completely\n",
    "del it_companies, A, B"
   ]
  },
  {
   "cell_type": "markdown",
   "metadata": {},
   "source": [
    "# Exercise: Level 3"
   ]
  },
  {
   "cell_type": "markdown",
   "metadata": {},
   "source": [
    "##### Question 1"
   ]
  },
  {
   "cell_type": "code",
   "execution_count": 22,
   "metadata": {},
   "outputs": [
    {
     "name": "stdout",
     "output_type": "stream",
     "text": [
      "Length of age list: 8\n",
      "Length of age set: 5\n",
      "List has more unique elements.\n"
     ]
    }
   ],
   "source": [
    "# Convert the ages to a set and compare the length of the list and the set\n",
    "age_set = set(age)\n",
    "length_age_list = len(age)\n",
    "length_age_set = len(age_set)\n",
    "print(\"Length of age list:\", length_age_list)\n",
    "print(\"Length of age set:\", length_age_set)\n",
    "\n",
    "# #Comparing\n",
    "if length_age_list > length_age_set:\n",
    "    print(\"List has more unique elements.\")\n",
    "elif length_age_list < length_age_set:\n",
    "    print(\"Set has more unique elements.\")\n",
    "else:\n",
    "    print(\"Both have the same number of unique elements.\")"
   ]
  },
  {
   "cell_type": "markdown",
   "metadata": {},
   "source": [
    "##### Question 2"
   ]
  },
  {
   "cell_type": "code",
   "execution_count": 6,
   "metadata": {},
   "outputs": [
    {
     "name": "stdout",
     "output_type": "stream",
     "text": [
      "List: A mutable sequence of elements. Elements are ordered and accessed by index.\n",
      "Tuple: An immutable sequence of elements. Elements are ordered and accessed by index.\n",
      "String: An immutable sequence of characters. Elements are ordered and accessed by index.\n",
      "Set: An unordered collection of unique elements. Does not allow duplicates.\n"
     ]
    }
   ],
   "source": [
    "# 14. Explain the difference between string, list, tuple, and set\n",
    "\n",
    "w = 'String: An immutable sequence of characters. Elements are ordered and accessed by index.'\n",
    "x = 'List: A mutable sequence of elements. Elements are ordered and accessed by index.'\n",
    "y = 'Tuple: An immutable sequence of elements. Elements are ordered and accessed by index.'\n",
    "z = 'Set: An unordered collection of unique elements. Does not allow duplicates.'\n",
    "\n",
    "print(x)\n",
    "print(y)\n",
    "print(w)\n",
    "print(z)"
   ]
  },
  {
   "cell_type": "markdown",
   "metadata": {},
   "source": [
    "##### Question 3"
   ]
  },
  {
   "cell_type": "code",
   "execution_count": 7,
   "metadata": {},
   "outputs": [
    {
     "name": "stdout",
     "output_type": "stream",
     "text": [
      "Number of unique words in the sentence: 10\n",
      "The Unique words are: {'am', 'love', 'to', 'and', 'I', 'a', 'people.', 'teacher', 'teach', 'inspire'}\n"
     ]
    }
   ],
   "source": [
    "sentence = \"I am a teacher and I love to inspire and teach people.\"\n",
    "\n",
    "# Split the sentence into words and convert it into a set to get unique words\n",
    "unique_words = set(sentence.split())\n",
    "\n",
    "num_unique_words = len(unique_words)\n",
    "print(f\"Number of unique words in the sentence: {num_unique_words}\")\n",
    "print (f'The Unique words are: {unique_words}')"
   ]
  }
 ],
 "metadata": {
  "kernelspec": {
   "display_name": "base",
   "language": "python",
   "name": "python3"
  },
  "language_info": {
   "codemirror_mode": {
    "name": "ipython",
    "version": 3
   },
   "file_extension": ".py",
   "mimetype": "text/x-python",
   "name": "python",
   "nbconvert_exporter": "python",
   "pygments_lexer": "ipython3",
   "version": "3.11.5"
  }
 },
 "nbformat": 4,
 "nbformat_minor": 2
}
