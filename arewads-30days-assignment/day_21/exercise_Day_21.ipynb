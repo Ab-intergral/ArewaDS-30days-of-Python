{
 "cells": [
  {
   "cell_type": "markdown",
   "metadata": {},
   "source": [
    "# Exercise: Level 1"
   ]
  },
  {
   "cell_type": "markdown",
   "metadata": {},
   "source": [
    "##### Question 1"
   ]
  },
  {
   "cell_type": "code",
   "execution_count": 1,
   "metadata": {},
   "outputs": [
    {
     "name": "stdout",
     "output_type": "stream",
     "text": [
      "Count: 25\n",
      "Sum:  744\n",
      "Min:  24\n",
      "Max:  38\n",
      "Range:  14\n",
      "Mean:  29.76\n",
      "Median:  29\n",
      "Mode:  {'mode': 26, 'count': 5}\n",
      "Standard Deviation:  4.2747319604079665\n",
      "Variance:  18.273333333333333\n",
      "Frequency Distribution:  [(5, 26), (4, 27), (3, 32), (2, 37), (2, 34), (2, 33), (2, 31), (2, 24), (1, 38), (1, 29), (1, 25)]\n"
     ]
    }
   ],
   "source": [
    "class Statistics:\n",
    "    def __init__(self, data):\n",
    "        self.data = data\n",
    "\n",
    "    def count(self):\n",
    "        return len(self.data)\n",
    "\n",
    "    def sum(self):\n",
    "        return sum(self.data)\n",
    "\n",
    "    def min(self):\n",
    "        return min(self.data)\n",
    "\n",
    "    def max(self):\n",
    "        return max(self.data)\n",
    "\n",
    "    def range(self):\n",
    "        return max(self.data) - min(self.data)\n",
    "\n",
    "    def mean(self):\n",
    "        return sum(self.data) / len(self.data)\n",
    "\n",
    "    def median(self):\n",
    "        sorted_data = sorted(self.data)\n",
    "        n = len(sorted_data)\n",
    "        if n % 2 == 0:\n",
    "            return (sorted_data[n // 2 - 1] + sorted_data[n // 2]) / 2\n",
    "        else:\n",
    "            return sorted_data[n // 2]\n",
    "\n",
    "    def mode(self):\n",
    "        frequencies = {x: self.data.count(x) for x in set(self.data)}\n",
    "        mode_value = max(frequencies, key=frequencies.get)\n",
    "        return {'mode': mode_value, 'count': frequencies[mode_value]}\n",
    "\n",
    "    def std(self):\n",
    "        import statistics\n",
    "        return statistics.stdev(self.data)\n",
    "\n",
    "    def var(self):\n",
    "        import statistics\n",
    "        return statistics.variance(self.data)\n",
    "\n",
    "    def freq_dist(self):\n",
    "        frequencies = {x: self.data.count(x) for x in set(self.data)}\n",
    "        return sorted([(freq, value) for value, freq in frequencies.items()], reverse=True)\n",
    "\n",
    "ages = [31, 26, 34, 37, 27, 26, 32, 32, 26, 27, 27, 24, 32, 33, 27, 25, 26, 38, 37, 31, 34, 24, 33, 29, 26]\n",
    "\n",
    "# Create an instance of Statistics class\n",
    "data = Statistics(ages)\n",
    "\n",
    "# Use the methods of the class to perform calculations\n",
    "print('Count:', data.count())\n",
    "print('Sum: ', data.sum())\n",
    "print('Min: ', data.min())\n",
    "print('Max: ', data.max())\n",
    "print('Range: ', data.range())\n",
    "print('Mean: ', data.mean())\n",
    "print('Median: ', data.median())\n",
    "print('Mode: ', data.mode())\n",
    "print('Standard Deviation: ', data.std())\n",
    "print('Variance: ', data.var())\n",
    "print('Frequency Distribution: ', data.freq_dist())"
   ]
  },
  {
   "cell_type": "markdown",
   "metadata": {},
   "source": [
    "# Exercise: Level 2"
   ]
  },
  {
   "cell_type": "markdown",
   "metadata": {},
   "source": [
    "##### Question 1"
   ]
  },
  {
   "cell_type": "code",
   "execution_count": 3,
   "metadata": {},
   "outputs": [
    {
     "name": "stdout",
     "output_type": "stream",
     "text": [
      "Account Information for Abubakar Idi:\n",
      "Total Income: 115000\n",
      "Total Expenses: 70000\n",
      "Account Balance: 45000\n",
      "\n"
     ]
    }
   ],
   "source": [
    "# Create a class called PersonAccount. It has firstname, lastname, incomes, \n",
    "# expenses properties and it has total_income, total_expense, account_info, \n",
    "# add_income, add_expense and account_balance methods. Incomes is a set of incomes and \n",
    "# its description. The same goes for expenses.\n",
    "\n",
    "class PersonAccount:\n",
    "    def __init__(self, firstname, lastname):\n",
    "        self.firstname = firstname\n",
    "        self.lastname = lastname\n",
    "        self.incomes = {}\n",
    "        self.expenses = {}\n",
    "\n",
    "    def total_income(self):\n",
    "        return sum(self.incomes.values())\n",
    "\n",
    "    def total_expense(self):\n",
    "        return sum(self.expenses.values())\n",
    "\n",
    "    def account_info(self):\n",
    "        info = f\"Account Information for {self.firstname} {self.lastname}:\\n\"\n",
    "        info += f\"Total Income: {self.total_income()}\\n\"\n",
    "        info += f\"Total Expenses: {self.total_expense()}\\n\"\n",
    "        info += f\"Account Balance: {self.account_balance()}\\n\"\n",
    "        return info\n",
    "\n",
    "    def add_income(self, description, amount):\n",
    "        if description in self.incomes:\n",
    "            self.incomes[description] += amount\n",
    "        else:\n",
    "            self.incomes[description] = amount\n",
    "\n",
    "    def add_expense(self, description, amount):\n",
    "        if description in self.expenses:\n",
    "            self.expenses[description] += amount\n",
    "        else:\n",
    "            self.expenses[description] = amount\n",
    "\n",
    "    def account_balance(self):\n",
    "        return self.total_income() - self.total_expense()\n",
    "\n",
    "\n",
    "person = PersonAccount(\"Abubakar\", \"Idi\")\n",
    "\n",
    "person.add_income(\"Salary\", 100000)\n",
    "person.add_income(\"Freelancing\", 15000)\n",
    "person.add_expense(\"Rent\", 20000)\n",
    "person.add_expense(\"Groceries\", 30000)\n",
    "person.add_expense(\"Utilities\", 20000)\n",
    "\n",
    "print(person.account_info())"
   ]
  }
 ],
 "metadata": {
  "kernelspec": {
   "display_name": "base",
   "language": "python",
   "name": "python3"
  },
  "language_info": {
   "codemirror_mode": {
    "name": "ipython",
    "version": 3
   },
   "file_extension": ".py",
   "mimetype": "text/x-python",
   "name": "python",
   "nbconvert_exporter": "python",
   "pygments_lexer": "ipython3",
   "version": "3.11.5"
  }
 },
 "nbformat": 4,
 "nbformat_minor": 2
}
