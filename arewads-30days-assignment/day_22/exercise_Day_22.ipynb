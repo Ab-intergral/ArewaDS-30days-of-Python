{
 "cells": [
  {
   "cell_type": "markdown",
   "metadata": {},
   "source": [
    "# Exercise: Day 22"
   ]
  },
  {
   "cell_type": "markdown",
   "metadata": {},
   "source": [
    "##### Question 1"
   ]
  },
  {
   "cell_type": "code",
   "execution_count": 1,
   "metadata": {},
   "outputs": [
    {
     "name": "stdout",
     "output_type": "stream",
     "text": [
      "Data scraped and saved as 'bu_university_data.json'\n"
     ]
    }
   ],
   "source": [
    "import requests\n",
    "from bs4 import BeautifulSoup\n",
    "import json\n",
    "\n",
    "# URL of the website\n",
    "url = 'http://www.bu.edu/president/boston-university-facts-stats/'\n",
    "\n",
    "# Send a GET request to the URL\n",
    "response = requests.get(url)\n",
    "\n",
    "# Check if the request was successful (status code 200)\n",
    "if response.status_code == 200:\n",
    "    # Parse the HTML content using BeautifulSoup\n",
    "    soup = BeautifulSoup(response.content, 'html.parser')\n",
    "\n",
    "    # Find the relevant data from the website (adjust this according to the specific content you want)\n",
    "    data = {}\n",
    "    sections = soup.find_all('section', class_='content-block')\n",
    "    for section in sections:\n",
    "        title = section.find('h2')\n",
    "        if title:\n",
    "            section_title = title.text.strip()\n",
    "            content = section.find_all('p')\n",
    "            data[section_title] = [p.text.strip() for p in content]\n",
    "\n",
    "    # Save the scraped data as JSON\n",
    "    with open('bu_university_data.json', 'w') as json_file:\n",
    "        json.dump(data, json_file, indent=4)\n",
    "    print(\"Data scraped and saved as 'bu_university_data.json'\")\n",
    "else:\n",
    "    print(\"Failed to retrieve the webpage\")"
   ]
  },
  {
   "cell_type": "markdown",
   "metadata": {},
   "source": [
    "##### Question 2"
   ]
  },
  {
   "cell_type": "code",
   "execution_count": 3,
   "metadata": {},
   "outputs": [
    {
     "name": "stdout",
     "output_type": "stream",
     "text": [
      "Table extracted and saved as 'table.json'\n"
     ]
    }
   ],
   "source": [
    "import requests\n",
    "from bs4 import BeautifulSoup\n",
    "import json\n",
    "\n",
    "# URL of the website\n",
    "url = 'https://archive.ics.uci.edu/dataset/222/bank+marketing'\n",
    "\n",
    "# Send a GET request to the URL\n",
    "response = requests.get(url)\n",
    "\n",
    "# Check if the request was successful (status code 200)\n",
    "if response.status_code == 200:\n",
    "    # Parse the HTML content using BeautifulSoup\n",
    "    soup = BeautifulSoup(response.content, 'html.parser')\n",
    "\n",
    "    # Find the table on the page\n",
    "    table = soup.find('table')\n",
    "\n",
    "    # Extract data from the table into a list of dictionaries\n",
    "    table_data = []\n",
    "    headers = []\n",
    "    if table:\n",
    "        headers = [header.text.strip() for header in table.find_all('th')]\n",
    "        rows = table.find_all('tr')\n",
    "        for row in rows[1:]:  # Skipping the header row\n",
    "            row_data = {}\n",
    "            cells = row.find_all('td')\n",
    "            for idx, cell in enumerate(cells):\n",
    "                row_data[headers[idx]] = cell.text.strip()\n",
    "            table_data.append(row_data)\n",
    "\n",
    "    # Save the extracted table data as JSON\n",
    "    with open('table.json', 'w') as json_file:\n",
    "        json.dump(table_data, json_file, indent=4)\n",
    "    print(\"Table extracted and saved as 'table.json'\")\n",
    "else:\n",
    "    print(\"Failed to retrieve the webpage\")"
   ]
  },
  {
   "cell_type": "markdown",
   "metadata": {},
   "source": [
    "##### Question 3"
   ]
  },
  {
   "cell_type": "code",
   "execution_count": 4,
   "metadata": {},
   "outputs": [
    {
     "name": "stdout",
     "output_type": "stream",
     "text": [
      "Presidents table extracted and saved as 'presidents.json'\n"
     ]
    }
   ],
   "source": [
    "import requests\n",
    "from bs4 import BeautifulSoup\n",
    "import json\n",
    "import re\n",
    "\n",
    "# URL of the Wikipedia page\n",
    "url = 'https://en.wikipedia.org/wiki/List_of_presidents_of_the_United_States'\n",
    "\n",
    "# Send a GET request to the URL\n",
    "response = requests.get(url)\n",
    "\n",
    "# Check if the request was successful (status code 200)\n",
    "if response.status_code == 200:\n",
    "    # Parse the HTML content using BeautifulSoup\n",
    "    soup = BeautifulSoup(response.content, 'html.parser')\n",
    "\n",
    "    # Find the table containing the Presidents data\n",
    "    tables = soup.find_all('table', class_='wikitable')\n",
    "\n",
    "    # Extract data from the table into a list of dictionaries\n",
    "    presidents_data = []\n",
    "    if tables:\n",
    "        # Assuming the Presidents table is the first table on the page\n",
    "        table = tables[0]\n",
    "        rows = table.find_all('tr')[1:]  # Skipping the header row\n",
    "\n",
    "        for row in rows:\n",
    "            cells = row.find_all(['th', 'td'])\n",
    "            if len(cells) >= 2:\n",
    "                presidency_num = cells[0].get_text(strip=True)\n",
    "                president_name = cells[2].get_text(strip=True)\n",
    "                presidents_data.append({\n",
    "                    'Presidency': presidency_num,\n",
    "                    'President': president_name\n",
    "                })\n",
    "\n",
    "    # Save the extracted Presidents data as JSON\n",
    "    with open('presidents.json', 'w') as json_file:\n",
    "        json.dump(presidents_data, json_file, indent=4)\n",
    "    print(\"Presidents table extracted and saved as 'presidents.json'\")\n",
    "else:\n",
    "    print(\"Failed to retrieve the webpage\")"
   ]
  }
 ],
 "metadata": {
  "kernelspec": {
   "display_name": "base",
   "language": "python",
   "name": "python3"
  },
  "language_info": {
   "codemirror_mode": {
    "name": "ipython",
    "version": 3
   },
   "file_extension": ".py",
   "mimetype": "text/x-python",
   "name": "python",
   "nbconvert_exporter": "python",
   "pygments_lexer": "ipython3",
   "version": "3.11.5"
  }
 },
 "nbformat": 4,
 "nbformat_minor": 2
}
