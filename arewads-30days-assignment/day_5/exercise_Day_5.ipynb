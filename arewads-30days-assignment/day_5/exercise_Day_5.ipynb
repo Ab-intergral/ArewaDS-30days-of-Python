{
 "cells": [
  {
   "cell_type": "markdown",
   "metadata": {},
   "source": [
    "# Exercise: Level 1"
   ]
  },
  {
   "cell_type": "markdown",
   "metadata": {},
   "source": [
    "##### Question 1 -"
   ]
  },
  {
   "cell_type": "code",
   "execution_count": 12,
   "metadata": {},
   "outputs": [
    {
     "name": "stdout",
     "output_type": "stream",
     "text": [
      "[]\n"
     ]
    }
   ],
   "source": [
    "#Declaring an empty list\n",
    "empty_list = []\n",
    "print(empty_list)"
   ]
  },
  {
   "cell_type": "markdown",
   "metadata": {},
   "source": [
    "##### Question 2"
   ]
  },
  {
   "cell_type": "code",
   "execution_count": 13,
   "metadata": {},
   "outputs": [
    {
     "name": "stdout",
     "output_type": "stream",
     "text": [
      "['kano', 'mango', 3, 4, 5, True, 7]\n"
     ]
    }
   ],
   "source": [
    "#Declare a list with more than 5 items\n",
    "more_than_5_items = ['kano', 'mango', 3, 4, 5, True, 7]\n",
    "print(more_than_5_items)"
   ]
  },
  {
   "cell_type": "markdown",
   "metadata": {},
   "source": [
    "##### Question 3"
   ]
  },
  {
   "cell_type": "code",
   "execution_count": 14,
   "metadata": {},
   "outputs": [
    {
     "name": "stdout",
     "output_type": "stream",
     "text": [
      "7\n"
     ]
    }
   ],
   "source": [
    "#Finding the length of my list\n",
    "length = len(more_than_5_items)\n",
    "print(length)"
   ]
  },
  {
   "cell_type": "markdown",
   "metadata": {},
   "source": [
    "##### Question 4"
   ]
  },
  {
   "cell_type": "code",
   "execution_count": 16,
   "metadata": {},
   "outputs": [
    {
     "name": "stdout",
     "output_type": "stream",
     "text": [
      "The first item of the list is: kano\n",
      "The middle item of the list is: 4\n",
      "The last item of the list is: 7\n"
     ]
    }
   ],
   "source": [
    "#Get the first item, the middle item, and the last item of the list\n",
    "first_item = more_than_5_items[0]\n",
    "middle_item = more_than_5_items[3]\n",
    "last_item = more_than_5_items[-1]"
   ]
  },
  {
   "cell_type": "markdown",
   "metadata": {},
   "source": [
    "##### Question 5"
   ]
  },
  {
   "cell_type": "code",
   "execution_count": 18,
   "metadata": {},
   "outputs": [
    {
     "name": "stdout",
     "output_type": "stream",
     "text": [
      "['Abubakar', 25, 175, 'Married', False]\n"
     ]
    }
   ],
   "source": [
    "# Declare a list called mixed_data_types\n",
    "mixed_data_types = [\"Abubakar\", 25, 175, \"Married\", False]\n",
    "print(mixed_data_types)"
   ]
  },
  {
   "cell_type": "markdown",
   "metadata": {},
   "source": [
    "##### Question 6"
   ]
  },
  {
   "cell_type": "code",
   "execution_count": 20,
   "metadata": {},
   "outputs": [],
   "source": [
    "# Declare a list variable named it_companies\n",
    "it_companies = [\"Facebook\", \"Google\", \"Microsoft\", \"Apple\", \"IBM\", \"Oracle\", \"Amazon\"]"
   ]
  },
  {
   "cell_type": "markdown",
   "metadata": {},
   "source": [
    "##### Question 7"
   ]
  },
  {
   "cell_type": "code",
   "execution_count": 21,
   "metadata": {},
   "outputs": [
    {
     "name": "stdout",
     "output_type": "stream",
     "text": [
      "['Facebook', 'Google', 'Microsoft', 'Apple', 'IBM', 'Oracle', 'Amazon']\n"
     ]
    }
   ],
   "source": [
    "# Print the list using print()\n",
    "print(it_companies)"
   ]
  },
  {
   "cell_type": "markdown",
   "metadata": {},
   "source": [
    "##### Question 8"
   ]
  },
  {
   "cell_type": "code",
   "execution_count": 24,
   "metadata": {},
   "outputs": [
    {
     "name": "stdout",
     "output_type": "stream",
     "text": [
      "The number of companies in the list is: 7\n"
     ]
    }
   ],
   "source": [
    "# Print the number of companies in the list\n",
    "print(f'The number of companies in the list is: {len(it_companies)}')"
   ]
  },
  {
   "cell_type": "markdown",
   "metadata": {},
   "source": [
    "##### Question 9"
   ]
  },
  {
   "cell_type": "code",
   "execution_count": 25,
   "metadata": {},
   "outputs": [
    {
     "name": "stdout",
     "output_type": "stream",
     "text": [
      "The first item of the list is: kano\n",
      "The middle item of the list is: 4\n",
      "The last item of the list is: 7\n"
     ]
    }
   ],
   "source": [
    "# Print the first, middle, and last company\n",
    "print(f'The first item of the list is: {first_item}')\n",
    "print(f'The middle item of the list is: {middle_item}')\n",
    "print(f'The last item of the list is: {last_item}')"
   ]
  },
  {
   "cell_type": "markdown",
   "metadata": {},
   "source": [
    "##### Question 10"
   ]
  },
  {
   "cell_type": "code",
   "execution_count": 27,
   "metadata": {},
   "outputs": [
    {
     "name": "stdout",
     "output_type": "stream",
     "text": [
      "['Facebook', 'Google', 'Dangote Group', 'Apple', 'IBM', 'Oracle', 'Amazon']\n"
     ]
    }
   ],
   "source": [
    "# Print the list after modifying one of the companies\n",
    "it_companies[2] = \"Dangote Group\"\n",
    "print(it_companies)"
   ]
  },
  {
   "cell_type": "markdown",
   "metadata": {},
   "source": [
    "##### Question 11"
   ]
  },
  {
   "cell_type": "code",
   "execution_count": 32,
   "metadata": {},
   "outputs": [
    {
     "name": "stdout",
     "output_type": "stream",
     "text": [
      "['Facebook', 'Google', 'Dangote Group', 'Apple', 'IBM', 'Oracle', 'Amazon', 'Nvidia', 'Nvidia', 'Nvidia', 'Intel', 'Intel']\n"
     ]
    }
   ],
   "source": [
    "# Add an IT company to it_companies\n",
    "it_companies.append(\"Intel\")\n",
    "print(it_companies)"
   ]
  },
  {
   "cell_type": "markdown",
   "metadata": {},
   "source": [
    "##### Question 12"
   ]
  },
  {
   "cell_type": "code",
   "execution_count": 33,
   "metadata": {},
   "outputs": [],
   "source": [
    "# Insert an IT company in the middle of the companies list\n",
    "it_companies.insert(length // 2, \"Cisco\")"
   ]
  },
  {
   "cell_type": "markdown",
   "metadata": {},
   "source": [
    "##### Question 13"
   ]
  },
  {
   "cell_type": "code",
   "execution_count": 34,
   "metadata": {},
   "outputs": [
    {
     "name": "stdout",
     "output_type": "stream",
     "text": [
      "['FACEBOOK', 'GOOGLE', 'DANGOTE GROUP', 'CISCO', 'APPLE', 'IBM', 'ORACLE', 'AMAZON', 'NVIDIA', 'NVIDIA', 'NVIDIA', 'INTEL', 'INTEL']\n"
     ]
    }
   ],
   "source": [
    "# Change one of the it_companies names to uppercase (IBM excluded!)\n",
    "for idx, company in enumerate(it_companies):\n",
    "    if company != \"IBM\":\n",
    "        it_companies[idx] = company.upper()\n",
    "print(it_companies)"
   ]
  },
  {
   "cell_type": "markdown",
   "metadata": {},
   "source": [
    "##### Question 14"
   ]
  },
  {
   "cell_type": "code",
   "execution_count": 35,
   "metadata": {},
   "outputs": [
    {
     "name": "stdout",
     "output_type": "stream",
     "text": [
      "FACEBOOK#; GOOGLE#; DANGOTE GROUP#; CISCO#; APPLE#; IBM#; ORACLE#; AMAZON#; NVIDIA#; NVIDIA#; NVIDIA#; INTEL#; INTEL\n"
     ]
    }
   ],
   "source": [
    "# Join the it_companies with a string '#; '\n",
    "joined_companies = '#; '.join(it_companies)\n",
    "print(joined_companies)"
   ]
  },
  {
   "cell_type": "markdown",
   "metadata": {},
   "source": [
    "##### Question 15"
   ]
  },
  {
   "cell_type": "code",
   "execution_count": 36,
   "metadata": {},
   "outputs": [
    {
     "name": "stdout",
     "output_type": "stream",
     "text": [
      "False\n"
     ]
    }
   ],
   "source": [
    "# Check if a certain company exists in the it_companies list\n",
    "print(\"Google\" in it_companies)"
   ]
  },
  {
   "cell_type": "markdown",
   "metadata": {},
   "source": [
    "##### Question 16"
   ]
  },
  {
   "cell_type": "code",
   "execution_count": 37,
   "metadata": {},
   "outputs": [
    {
     "name": "stdout",
     "output_type": "stream",
     "text": [
      "['AMAZON', 'APPLE', 'CISCO', 'DANGOTE GROUP', 'FACEBOOK', 'GOOGLE', 'IBM', 'INTEL', 'INTEL', 'NVIDIA', 'NVIDIA', 'NVIDIA', 'ORACLE']\n"
     ]
    }
   ],
   "source": [
    "# Sort the list using sort() method\n",
    "it_companies.sort()\n",
    "print(it_companies)"
   ]
  },
  {
   "cell_type": "markdown",
   "metadata": {},
   "source": [
    "##### Question 17"
   ]
  },
  {
   "cell_type": "code",
   "execution_count": 38,
   "metadata": {},
   "outputs": [
    {
     "name": "stdout",
     "output_type": "stream",
     "text": [
      "['ORACLE', 'NVIDIA', 'NVIDIA', 'NVIDIA', 'INTEL', 'INTEL', 'IBM', 'GOOGLE', 'FACEBOOK', 'DANGOTE GROUP', 'CISCO', 'APPLE', 'AMAZON']\n"
     ]
    }
   ],
   "source": [
    "# Reverse the list in descending order using reverse() method\n",
    "it_companies.reverse()\n",
    "print(it_companies)"
   ]
  },
  {
   "cell_type": "markdown",
   "metadata": {},
   "source": [
    "##### Question 18"
   ]
  },
  {
   "cell_type": "code",
   "execution_count": 39,
   "metadata": {},
   "outputs": [
    {
     "name": "stdout",
     "output_type": "stream",
     "text": [
      "['ORACLE', 'NVIDIA', 'NVIDIA', 'NVIDIA', 'INTEL', 'INTEL', 'IBM', 'GOOGLE', 'FACEBOOK', 'DANGOTE GROUP', 'CISCO', 'APPLE', 'AMAZON']\n"
     ]
    }
   ],
   "source": [
    "# Slice out the first 3 companies from the list\n",
    "first_three = it_companies[:3]\n",
    "print(it_companies)"
   ]
  },
  {
   "cell_type": "markdown",
   "metadata": {},
   "source": [
    "##### Question 19\n"
   ]
  },
  {
   "cell_type": "code",
   "execution_count": 40,
   "metadata": {},
   "outputs": [
    {
     "name": "stdout",
     "output_type": "stream",
     "text": [
      "['ORACLE', 'NVIDIA', 'NVIDIA', 'NVIDIA', 'INTEL', 'INTEL', 'IBM', 'GOOGLE', 'FACEBOOK', 'DANGOTE GROUP', 'CISCO', 'APPLE', 'AMAZON']\n"
     ]
    }
   ],
   "source": [
    "# Slice out the last 3 companies from the list\n",
    "last_three = it_companies[-3:]\n",
    "print(it_companies)"
   ]
  },
  {
   "cell_type": "markdown",
   "metadata": {},
   "source": [
    "##### Question 20"
   ]
  },
  {
   "cell_type": "code",
   "execution_count": 42,
   "metadata": {},
   "outputs": [
    {
     "name": "stdout",
     "output_type": "stream",
     "text": [
      "['ORACLE', 'NVIDIA', 'NVIDIA', 'NVIDIA', 'INTEL', 'INTEL', 'IBM', 'GOOGLE', 'FACEBOOK', 'DANGOTE GROUP', 'CISCO', 'APPLE', 'AMAZON']\n"
     ]
    }
   ],
   "source": [
    "# Slice out the middle IT company or companies from the list\n",
    "middle_index = len(it_companies) // 2\n",
    "middle_company = it_companies[middle_index] if length % 2 != 0 else [it_companies[middle_index - 1], it_companies[middle_index]]\n",
    "print(it_companies)"
   ]
  },
  {
   "cell_type": "markdown",
   "metadata": {},
   "source": [
    "##### Question 21"
   ]
  },
  {
   "cell_type": "code",
   "execution_count": 43,
   "metadata": {},
   "outputs": [
    {
     "name": "stdout",
     "output_type": "stream",
     "text": [
      "['NVIDIA', 'NVIDIA', 'NVIDIA', 'INTEL', 'INTEL', 'IBM', 'GOOGLE', 'FACEBOOK', 'DANGOTE GROUP', 'CISCO', 'APPLE', 'AMAZON']\n"
     ]
    }
   ],
   "source": [
    "# Remove the first IT company from the list\n",
    "it_companies.pop(0)\n",
    "print(it_companies)"
   ]
  },
  {
   "cell_type": "markdown",
   "metadata": {},
   "source": [
    "##### Question 22"
   ]
  },
  {
   "cell_type": "code",
   "execution_count": 44,
   "metadata": {},
   "outputs": [
    {
     "name": "stdout",
     "output_type": "stream",
     "text": [
      "['NVIDIA', 'NVIDIA', 'NVIDIA', 'INTEL', 'INTEL', 'IBM', 'FACEBOOK', 'DANGOTE GROUP', 'CISCO', 'APPLE', 'AMAZON']\n"
     ]
    }
   ],
   "source": [
    "# Remove the middle IT company or companies from the list\n",
    "middle_index = len(it_companies) // 2\n",
    "removed_item = it_companies.pop(middle_index)\n",
    "\n",
    "print(it_companies)"
   ]
  },
  {
   "cell_type": "markdown",
   "metadata": {},
   "source": [
    "##### Question 23"
   ]
  },
  {
   "cell_type": "code",
   "execution_count": 45,
   "metadata": {},
   "outputs": [
    {
     "name": "stdout",
     "output_type": "stream",
     "text": [
      "['NVIDIA', 'NVIDIA', 'NVIDIA', 'INTEL', 'INTEL', 'IBM', 'FACEBOOK', 'DANGOTE GROUP', 'CISCO', 'APPLE']\n"
     ]
    }
   ],
   "source": [
    "# Remove the last IT company from the list\n",
    "it_companies.pop()\n",
    "print(it_companies)"
   ]
  },
  {
   "cell_type": "code",
   "execution_count": 11,
   "metadata": {},
   "outputs": [
    {
     "name": "stdout",
     "output_type": "stream",
     "text": [
      "[]\n",
      "['kano', 'mango', 3, 4, 5, True, 7]\n",
      "7\n",
      "The first item of the list is: kano\n",
      "The middle item of the list is: 4\n",
      "The last item of the list is: 7\n",
      "['Facebook', 'Google', 'Microsoft', 'Apple', 'IBM', 'Oracle', 'Amazon']\n",
      "7\n",
      "Facebook\n",
      "Apple\n",
      "Amazon\n",
      "['Facebook', 'Google', 'Microsoft Corporation', 'Apple', 'IBM', 'Oracle', 'Amazon']\n",
      "FACEBOOK#; GOOGLE#; MICROSOFT CORPORATION#; CISCO#; APPLE#; IBM#; ORACLE#; AMAZON#; INTEL\n",
      "False\n"
     ]
    }
   ],
   "source": [
    "\n",
    "\n",
    "\n",
    "\n",
    "\n",
    "\n",
    "# Remove all IT companies from the list\n",
    "it_companies.clear()\n",
    "\n",
    "# Destroy the IT companies list\n",
    "del it_companies\n"
   ]
  }
 ],
 "metadata": {
  "kernelspec": {
   "display_name": "base",
   "language": "python",
   "name": "python3"
  },
  "language_info": {
   "codemirror_mode": {
    "name": "ipython",
    "version": 3
   },
   "file_extension": ".py",
   "mimetype": "text/x-python",
   "name": "python",
   "nbconvert_exporter": "python",
   "pygments_lexer": "ipython3",
   "version": "3.11.5"
  }
 },
 "nbformat": 4,
 "nbformat_minor": 2
}
