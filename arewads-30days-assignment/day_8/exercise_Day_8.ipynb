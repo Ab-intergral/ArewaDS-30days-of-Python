{
 "cells": [
  {
   "cell_type": "markdown",
   "metadata": {},
   "source": [
    "##### Question 1"
   ]
  },
  {
   "cell_type": "code",
   "execution_count": 3,
   "metadata": {},
   "outputs": [
    {
     "name": "stdout",
     "output_type": "stream",
     "text": [
      "{'Name': 'Tiger', 'Color': 'Brown', 'Gender': 'Male', 'Age': 2, 'Breed': 'German shepherd'}\n"
     ]
    }
   ],
   "source": [
    "# Create an empty dictionary called dog and add properties\n",
    "\n",
    "dog = {\n",
    "    'Name': 'Tiger',\n",
    "    'Color': 'Brown',\n",
    "    'Gender': 'Male',\n",
    "    'Age': 2,\n",
    "    'Breed': 'German shepherd',\n",
    "}\n",
    "\n",
    "print(dog)"
   ]
  },
  {
   "cell_type": "markdown",
   "metadata": {},
   "source": [
    "##### Question 2"
   ]
  },
  {
   "cell_type": "code",
   "execution_count": 4,
   "metadata": {},
   "outputs": [
    {
     "name": "stdout",
     "output_type": "stream",
     "text": [
      "{'first_name': 'Abubakar', 'last_name': 'Idi', 'gender': 'Male', 'age': 30, 'marital_status': 'Married', 'skills': ['Python', 'C'], 'country': 'Nigeria', 'city': 'Yola', 'School': 'ALX Africa'}\n"
     ]
    }
   ],
   "source": [
    "# Create a student dictionary and add properties\n",
    "student = {\n",
    "    'first_name': 'Abubakar',\n",
    "    'last_name': 'Idi',\n",
    "    'gender': 'Male',\n",
    "    'age': 30,\n",
    "    'marital_status': 'Married',\n",
    "    'skills': ['Python', 'C'],\n",
    "    'country': 'Nigeria',\n",
    "    'city': 'Yola',\n",
    "    'School': 'ALX Africa'\n",
    "}\n",
    "\n",
    "print(student)"
   ]
  },
  {
   "cell_type": "markdown",
   "metadata": {},
   "source": [
    "##### Question 3"
   ]
  },
  {
   "cell_type": "code",
   "execution_count": 5,
   "metadata": {},
   "outputs": [
    {
     "name": "stdout",
     "output_type": "stream",
     "text": [
      " The Length of the student dictionary is 9\n"
     ]
    }
   ],
   "source": [
    "# Get the length of the student dictionary\n",
    "length_student = len(student)\n",
    "print(\" The Length of the student dictionary is\", length_student)"
   ]
  },
  {
   "cell_type": "markdown",
   "metadata": {},
   "source": [
    "##### Question 4 and 5"
   ]
  },
  {
   "cell_type": "code",
   "execution_count": 9,
   "metadata": {},
   "outputs": [
    {
     "name": "stdout",
     "output_type": "stream",
     "text": [
      "The value of skills is ['Python', 'C']\n",
      "Data type of skills is <class 'list'>\n"
     ]
    }
   ],
   "source": [
    "# Get the value of skills and check the data type\n",
    "skills_value = student['skills']\n",
    "print('The value of skills is' ,skills_value)\n",
    "print(\"Data type of skills is\", type(skills_value))"
   ]
  },
  {
   "cell_type": "markdown",
   "metadata": {},
   "source": [
    "##### Question 6"
   ]
  },
  {
   "cell_type": "code",
   "execution_count": 10,
   "metadata": {},
   "outputs": [
    {
     "name": "stdout",
     "output_type": "stream",
     "text": [
      "{'first_name': 'Abubakar', 'last_name': 'Idi', 'gender': 'Male', 'age': 30, 'marital_status': 'Married', 'skills': ['Python', 'C', 'Shell', 'Microsoft excel'], 'country': 'Nigeria', 'city': 'Yola', 'School': 'ALX Africa'}\n"
     ]
    }
   ],
   "source": [
    "# Modify the skills values by adding one or two skills\n",
    "student['skills'].extend(['Shell', 'Microsoft excel'])\n",
    "\n",
    "print(student)"
   ]
  },
  {
   "cell_type": "markdown",
   "metadata": {},
   "source": [
    "##### Question 7"
   ]
  },
  {
   "cell_type": "code",
   "execution_count": 12,
   "metadata": {},
   "outputs": [
    {
     "name": "stdout",
     "output_type": "stream",
     "text": [
      "Keys of the student dictionary is ['first_name', 'last_name', 'gender', 'age', 'marital_status', 'skills', 'country', 'city', 'School']\n"
     ]
    }
   ],
   "source": [
    "# Get the dictionary keys as a list\n",
    "keys_list = list(student.keys())\n",
    "print(\"Keys of the student dictionary is\", keys_list)"
   ]
  },
  {
   "cell_type": "markdown",
   "metadata": {},
   "source": [
    "##### Question 8"
   ]
  },
  {
   "cell_type": "code",
   "execution_count": 13,
   "metadata": {},
   "outputs": [
    {
     "name": "stdout",
     "output_type": "stream",
     "text": [
      "The values of the student is ['Abubakar', 'Idi', 'Male', 30, 'Married', ['Python', 'C', 'Shell', 'Microsoft excel'], 'Nigeria', 'Yola', 'ALX Africa']\n"
     ]
    }
   ],
   "source": [
    "# Get the dictionary values as a list\n",
    "values_list = list(student.values())\n",
    "print(\"The values of the student is\", values_list)"
   ]
  },
  {
   "cell_type": "markdown",
   "metadata": {},
   "source": [
    "##### Question 9"
   ]
  },
  {
   "cell_type": "code",
   "execution_count": 14,
   "metadata": {},
   "outputs": [
    {
     "name": "stdout",
     "output_type": "stream",
     "text": [
      "[('first_name', 'Abubakar'), ('last_name', 'Idi'), ('gender', 'Male'), ('age', 30), ('marital_status', 'Married'), ('skills', ['Python', 'C', 'Shell', 'Microsoft excel']), ('country', 'Nigeria'), ('city', 'Yola'), ('School', 'ALX Africa')]\n"
     ]
    }
   ],
   "source": [
    "# Change the dictionary to a list of tuples using items() method\n",
    "dict_to_tuples = list(student.items())\n",
    "print(dict_to_tuples)"
   ]
  },
  {
   "cell_type": "markdown",
   "metadata": {},
   "source": [
    "##### Question 10"
   ]
  },
  {
   "cell_type": "code",
   "execution_count": 16,
   "metadata": {},
   "outputs": [
    {
     "name": "stdout",
     "output_type": "stream",
     "text": [
      "after deleting one item: {'first_name': 'Abubakar', 'last_name': 'Idi', 'gender': 'Male', 'age': 30, 'marital_status': 'Married', 'skills': ['Python', 'C', 'Shell', 'Microsoft excel'], 'country': 'Nigeria', 'city': 'Yola'}\n"
     ]
    }
   ],
   "source": [
    "# Delete one of the items in the dictionary\n",
    "del student['School']\n",
    "print(\"after deleting one item:\", student)"
   ]
  },
  {
   "cell_type": "markdown",
   "metadata": {},
   "source": [
    "##### Question 11"
   ]
  },
  {
   "cell_type": "code",
   "execution_count": 17,
   "metadata": {},
   "outputs": [],
   "source": [
    "\n",
    "\n",
    "# Delete one of the dictionaries (dog)\n",
    "del dog"
   ]
  }
 ],
 "metadata": {
  "kernelspec": {
   "display_name": "base",
   "language": "python",
   "name": "python3"
  },
  "language_info": {
   "codemirror_mode": {
    "name": "ipython",
    "version": 3
   },
   "file_extension": ".py",
   "mimetype": "text/x-python",
   "name": "python",
   "nbconvert_exporter": "python",
   "pygments_lexer": "ipython3",
   "version": "3.11.5"
  }
 },
 "nbformat": 4,
 "nbformat_minor": 2
}
