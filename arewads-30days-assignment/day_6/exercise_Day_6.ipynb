{
 "cells": [
  {
   "cell_type": "markdown",
   "metadata": {},
   "source": [
    "# Exercies: Level 1"
   ]
  },
  {
   "cell_type": "markdown",
   "metadata": {},
   "source": [
    "##### Question 1"
   ]
  },
  {
   "cell_type": "code",
   "execution_count": 2,
   "metadata": {},
   "outputs": [
    {
     "name": "stdout",
     "output_type": "stream",
     "text": [
      "()\n"
     ]
    }
   ],
   "source": [
    "# Create an empty tuple\n",
    "empty_tuple = ()\n",
    "print(empty_tuple)"
   ]
  },
  {
   "cell_type": "markdown",
   "metadata": {},
   "source": [
    "##### Question 2"
   ]
  },
  {
   "cell_type": "code",
   "execution_count": 3,
   "metadata": {},
   "outputs": [
    {
     "name": "stdout",
     "output_type": "stream",
     "text": [
      "The names of my brothers are: ('Adamu', 'Abdullahi', 'Haytu')\n",
      "The name of my sisters are: ('Amina', 'Halima', 'Zainab')\n"
     ]
    }
   ],
   "source": [
    "# Tuple containing names of sisters and brothers\n",
    "brothers = ('Adamu', 'Abdullahi', 'Haytu')\n",
    "sisters = ('Amina', 'Halima', 'Zainab')\n",
    "\n",
    "print(f'The names of my brothers are: {brothers}')\n",
    "print(f'The name of my sisters are: {sisters}')"
   ]
  },
  {
   "cell_type": "markdown",
   "metadata": {},
   "source": [
    "##### Question 3"
   ]
  },
  {
   "cell_type": "code",
   "execution_count": 4,
   "metadata": {},
   "outputs": [
    {
     "name": "stdout",
     "output_type": "stream",
     "text": [
      "The names of my siblings are: ('Amina', 'Halima', 'Zainab', 'Adamu', 'Abdullahi', 'Haytu')\n"
     ]
    }
   ],
   "source": [
    "# Join brothers and sisters tuples and assign it to siblings\n",
    "siblings = sisters + brothers\n",
    "print(f'The names of my siblings are: {siblings}')"
   ]
  },
  {
   "cell_type": "markdown",
   "metadata": {},
   "source": [
    "##### Question 4"
   ]
  },
  {
   "cell_type": "code",
   "execution_count": 5,
   "metadata": {},
   "outputs": [
    {
     "name": "stdout",
     "output_type": "stream",
     "text": [
      "6\n"
     ]
    }
   ],
   "source": [
    "# Count the number of siblings\n",
    "num_siblings = len(siblings)\n",
    "\n",
    "print(num_siblings)"
   ]
  },
  {
   "cell_type": "markdown",
   "metadata": {},
   "source": [
    "##### Question 5"
   ]
  },
  {
   "cell_type": "code",
   "execution_count": 15,
   "metadata": {},
   "outputs": [
    {
     "name": "stdout",
     "output_type": "stream",
     "text": [
      "('Amina', 'Halima', 'Zainab', 'Adamu', 'Abdullahi', 'Haytu', 'Idi', 'Fadimatu')\n"
     ]
    }
   ],
   "source": [
    "# Modify the siblings tuple and add the name of your father and mother\n",
    "Parents = ('Idi', 'Fadimatu')\n",
    "family_members = siblings + Parents\n",
    "\n",
    "print(family_members)"
   ]
  },
  {
   "cell_type": "markdown",
   "metadata": {},
   "source": [
    "# Exercise: Level 2"
   ]
  },
  {
   "cell_type": "markdown",
   "metadata": {},
   "source": [
    "##### Question 1"
   ]
  },
  {
   "cell_type": "code",
   "execution_count": 31,
   "metadata": {},
   "outputs": [
    {
     "name": "stdout",
     "output_type": "stream",
     "text": [
      "Siblings: ('Amina', 'Halima', 'Zainab', 'Adamu', 'Abdullahi', 'Haytu')\n",
      "Parents: ('Idi', 'Fadimatu')\n"
     ]
    }
   ],
   "source": [
    "# Unpack siblings and parents from family_members\n",
    "siblings = family_members[:len(brothers) + len(sisters)]\n",
    "parents = family_members[len(brothers) + len(sisters):]\n",
    "\n",
    "print('Siblings:',siblings)\n",
    "print('Parents:' ,parents)"
   ]
  },
  {
   "cell_type": "markdown",
   "metadata": {},
   "source": [
    "##### Question 2"
   ]
  },
  {
   "cell_type": "code",
   "execution_count": 32,
   "metadata": {},
   "outputs": [
    {
     "name": "stdout",
     "output_type": "stream",
     "text": [
      "Fruits: ('mango', 'banana', 'orange')\n",
      "Vegetables: ('carrot', 'spinach', 'tomato')\n",
      "Food Stuffs: ('mango', 'banana', 'orange', 'carrot', 'spinach', 'tomato', 'meat', 'milk', 'fish')\n"
     ]
    }
   ],
   "source": [
    "# Create fruits, vegetables, and animal products tuples\n",
    "fruits = ('mango', 'banana', 'orange')\n",
    "vegetables = ('carrot', 'spinach', 'tomato')\n",
    "animal_products = ('meat', 'milk', 'fish')\n",
    "\n",
    "food_stuff_tp = fruits + vegetables + animal_products\n",
    "print('Fruits:' ,fruits)\n",
    "print('Vegetables:' ,vegetables)\n",
    "print('Food Stuffs:' ,food_stuff_tp)"
   ]
  },
  {
   "cell_type": "markdown",
   "metadata": {},
   "source": [
    "##### Question 3"
   ]
  },
  {
   "cell_type": "code",
   "execution_count": 33,
   "metadata": {},
   "outputs": [
    {
     "name": "stdout",
     "output_type": "stream",
     "text": [
      "Food Stuffs: ['mango', 'banana', 'orange', 'carrot', 'spinach', 'tomato', 'meat', 'milk', 'fish']\n"
     ]
    }
   ],
   "source": [
    "# Change the tuple to a list\n",
    "food_stuff_lt = list(food_stuff_tp)\n",
    "\n",
    "print('Food Stuffs:' ,food_stuff_lt)"
   ]
  },
  {
   "cell_type": "markdown",
   "metadata": {},
   "source": [
    "##### Question 4"
   ]
  },
  {
   "cell_type": "code",
   "execution_count": 34,
   "metadata": {},
   "outputs": [
    {
     "name": "stdout",
     "output_type": "stream",
     "text": [
      "['carrot', 'spinach', 'tomato']\n"
     ]
    }
   ],
   "source": [
    "# Slice out the middle item or items from the list\n",
    "#middle_index = len(food_stuff_lt) // 2\n",
    "#middle_items = food_stuff_lt[middle_index - 1:middle_index + 1] if len(food_stuff_lt) % 2 == 0 else [food_stuff_lt[middle_index]]\n",
    "middle_items = food_stuff_lt[3:-3]\n",
    "print(middle_items)"
   ]
  },
  {
   "cell_type": "markdown",
   "metadata": {},
   "source": [
    "##### Question 5"
   ]
  },
  {
   "cell_type": "code",
   "execution_count": 35,
   "metadata": {},
   "outputs": [
    {
     "name": "stdout",
     "output_type": "stream",
     "text": [
      "first three: ['mango', 'banana', 'orange']\n",
      "last three: ['meat', 'milk', 'fish']\n"
     ]
    }
   ],
   "source": [
    "# Slice out the first three items and the last three items from the list\n",
    "first_three = food_stuff_lt[:3]\n",
    "last_three = food_stuff_lt[-3:]\n",
    "\n",
    "print('first three:' ,first_three)\n",
    "print('last three:' ,last_three)"
   ]
  },
  {
   "cell_type": "markdown",
   "metadata": {},
   "source": [
    "##### Question 6"
   ]
  },
  {
   "cell_type": "code",
   "execution_count": 36,
   "metadata": {},
   "outputs": [],
   "source": [
    "# Delete the food_stuff_tp tuple completely\n",
    "del food_stuff_tp"
   ]
  },
  {
   "cell_type": "markdown",
   "metadata": {},
   "source": [
    "##### Question 7"
   ]
  },
  {
   "cell_type": "code",
   "execution_count": 37,
   "metadata": {},
   "outputs": [
    {
     "name": "stdout",
     "output_type": "stream",
     "text": [
      "'Estonia' is a Nordic country: False\n",
      "'Iceland' is a Nordic country: True\n"
     ]
    }
   ],
   "source": [
    "nordic_countries = ('Denmark', 'Finland', 'Iceland', 'Norway', 'Sweden')\n",
    "\n",
    "is_estonia_nordic = 'Estonia' in nordic_countries\n",
    "\n",
    "is_iceland_nordic = 'Iceland' in nordic_countries\n",
    "\n",
    "print(\"'Estonia' is a Nordic country?:\", is_estonia_nordic)\n",
    "print(\"'Iceland' is a Nordic country:\", is_iceland_nordic)"
   ]
  }
 ],
 "metadata": {
  "kernelspec": {
   "display_name": "base",
   "language": "python",
   "name": "python3"
  },
  "language_info": {
   "codemirror_mode": {
    "name": "ipython",
    "version": 3
   },
   "file_extension": ".py",
   "mimetype": "text/x-python",
   "name": "python",
   "nbconvert_exporter": "python",
   "pygments_lexer": "ipython3",
   "version": "3.11.5"
  }
 },
 "nbformat": 4,
 "nbformat_minor": 2
}
