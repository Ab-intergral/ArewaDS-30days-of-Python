{
 "cells": [
  {
   "cell_type": "markdown",
   "metadata": {},
   "source": [
    "# Exercise: Day 23"
   ]
  },
  {
   "cell_type": "markdown",
   "metadata": {},
   "source": [
    "### Creating a new project directory with a virtual environment called my_venv"
   ]
  },
  {
   "cell_type": "code",
   "execution_count": null,
   "metadata": {},
   "outputs": [],
   "source": [
    "# C:\\Users\\Abubakar\\Desktop\\Arewa-data-science\\ArewaDS-30days-of-Python\\flask_project> ls my_venv/\n",
    "\n",
    "#     Directory: C:\\Users\\Abubakar\\Desktop\\Arewa-data-science\\ArewaDS-30days-of-Python\\flask_project\\my_venv\n",
    "\n",
    "# Mode                 LastWriteTime         Length Name\n",
    "# ----                 -------------         ------ ----\n",
    "# d----          12/28/2023 12:32 PM                Include\n",
    "# d----          12/28/2023 12:32 PM                Lib\n",
    "# d----          12/28/2023 12:32 PM                Scripts\n",
    "# -a---          12/28/2023 12:32 PM            518 pyvenv.cfg"
   ]
  },
  {
   "cell_type": "markdown",
   "metadata": {},
   "source": [
    "### Activating my new virtual environment"
   ]
  },
  {
   "cell_type": "code",
   "execution_count": null,
   "metadata": {},
   "outputs": [],
   "source": [
    "# C:\\Users\\Abubakar\\Desktop\\Arewa-data-science\\ArewaDS-30days-of-Python\\flask_project> my_venv\\Scripts\\activate\n",
    "# (my_venv) PS C:\\Users\\Abubakar\\Desktop\\Arewa-data-science\\ArewaDS-30days-of-Python\\flask_project>"
   ]
  },
  {
   "cell_type": "markdown",
   "metadata": {},
   "source": [
    "### Installing flask package to my new project"
   ]
  },
  {
   "cell_type": "code",
   "execution_count": null,
   "metadata": {},
   "outputs": [],
   "source": [
    "# (my_venv) PS C:\\Users\\Abubakar\\Desktop\\Arewa-data-science\\ArewaDS-30days-of-Python\\flask_project> pip install Flask     \n",
    "# Collecting Flask\n",
    "#   Obtaining dependency information for Flask from https://files.pythonhosted.org/packages/36/42/015c23096649b908c809c69388a805a571a3bea44362fe87e33fc3afa01f/flask-3.0.0-py3-none-any.whl.metadata\n",
    "#   Using cached flask-3.0.0-py3-none-any.whl.metadata (3.6 kB)\n",
    "# Collecting Werkzeug>=3.0.0 (from Flask)\n",
    "#   Obtaining dependency information for Werkzeug>=3.0.0 from https://files.pythonhosted.org/packages/c3/fc/254c3e9b5feb89ff5b9076a23218dafbc99c96ac5941e900b71206e6313b/werkzeug-3.0.1-py3-none-any.whl.metadata\n",
    "#   Using cached werkzeug-3.0.1-py3-none-any.whl.metadata (4.1 kB)\n",
    "# Collecting Jinja2>=3.1.2 (from Flask)\n",
    "#   Using cached Jinja2-3.1.2-py3-none-any.whl (133 kB)\n",
    "# Collecting itsdangerous>=2.1.2 (from Flask)\n",
    "#   Using cached itsdangerous-2.1.2-py3-none-any.whl (15 kB)\n",
    "# Collecting click>=8.1.3 (from Flask)\n",
    "#   Obtaining dependency information for click>=8.1.3 from https://files.pythonhosted.org/packages/00/2e/d53fa4befbf2cfa713304affc7ca780ce4fc1fd8710527771b58311a3229/click-8.1.7-py3-none-any.whl.metadata\n",
    "#   Using cached click-8.1.7-py3-none-any.whl.metadata (3.0 kB)\n",
    "# Collecting blinker>=1.6.2 (from Flask)\n",
    "#   Obtaining dependency information for blinker>=1.6.2 from https://files.pythonhosted.org/packages/fa/2a/7f3714cbc6356a0efec525ce7a0613d581072ed6eb53eb7b9754f33db807/blinker-1.7.0-py3-none-any.whl.metadata\n",
    "#   Using cached blinker-1.7.0-py3-none-any.whl.metadata (1.9 kB)\n",
    "# Collecting colorama (from click>=8.1.3->Flask)\n",
    "#   Using cached colorama-0.4.6-py2.py3-none-any.whl (25 kB)\n",
    "# Collecting MarkupSafe>=2.0 (from Jinja2>=3.1.2->Flask)\n",
    "#   Obtaining dependency information for MarkupSafe>=2.0 from https://files.pythonhosted.org/packages/44/44/dbaf65876e258facd65f586dde158387ab89963e7f2235551afc9c2e24c2/MarkupSafe-2.1.3-cp312-cp312-win_amd64.whl.metadata    \n",
    "#   Using cached MarkupSafe-2.1.3-cp312-cp312-win_amd64.whl.metadata (3.0 kB)\n",
    "# Using cached flask-3.0.0-py3-none-any.whl (99 kB)\n",
    "# Using cached blinker-1.7.0-py3-none-any.whl (13 kB)\n",
    "# Using cached click-8.1.7-py3-none-any.whl (97 kB)\n",
    "# Using cached werkzeug-3.0.1-py3-none-any.whl (226 kB)\n",
    "# Using cached MarkupSafe-2.1.3-cp312-cp312-win_amd64.whl (16 kB)\n",
    "# Installing collected packages: MarkupSafe, itsdangerous, colorama, blinker, Werkzeug, Jinja2, click, Flask\n",
    "# Successfully installed Flask-3.0.0 Jinja2-3.1.2 MarkupSafe-2.1.3 Werkzeug-3.0.1 blinker-1.7.0 click-8.1.7 colorama-0.4.6 itsdangerous-2.1.2\n",
    "\n",
    "# [notice] A new release of pip is available: 23.2.1 -> 23.3.2\n",
    "# [notice] To update, run: python.exe -m pip install --upgrade pip\n",
    "# (my_venv) PS C:\\Users\\Abubakar\\Desktop\\Arewa-data-science\\ArewaDS-30days-of-Python\\flask_project> "
   ]
  },
  {
   "cell_type": "markdown",
   "metadata": {},
   "source": [
    "### Now using pip freeze to see a list of installed packages in the project"
   ]
  },
  {
   "cell_type": "code",
   "execution_count": null,
   "metadata": {},
   "outputs": [],
   "source": [
    "# (my_venv) PS C:\\Users\\Abubakar\\Desktop\\Arewa-data-science\\ArewaDS-30days-of-Python\\flask_project> pip freeze     \n",
    "# blinker==1.7.0\n",
    "# click==8.1.7\n",
    "# colorama==0.4.6\n",
    "# Flask==3.0.0\n",
    "# itsdangerous==2.1.2\n",
    "# Jinja2==3.1.2\n",
    "# MarkupSafe==2.1.3\n",
    "# Werkzeug==3.0.1\n",
    "# (my_venv) PS C:\\Users\\Abubakar\\Desktop\\Arewa-data-science\\ArewaDS-30days-of-Python\\flask_project> "
   ]
  },
  {
   "cell_type": "markdown",
   "metadata": {},
   "source": [
    "### Deactivating my active project"
   ]
  },
  {
   "cell_type": "code",
   "execution_count": null,
   "metadata": {},
   "outputs": [],
   "source": [
    "# (my_venv) PS C:\\Users\\Abubakar\\Desktop\\Arewa-data-science\\ArewaDS-30days-of-Python\\flask_project> deactivate\n",
    "# PS C:\\Users\\Abubakar\\Desktop\\Arewa-data-science\\ArewaDS-30days-of-Python\\flask_project>"
   ]
  }
 ],
 "metadata": {
  "kernelspec": {
   "display_name": "base",
   "language": "python",
   "name": "python3"
  },
  "language_info": {
   "name": "python",
   "version": "3.11.5"
  }
 },
 "nbformat": 4,
 "nbformat_minor": 2
}
