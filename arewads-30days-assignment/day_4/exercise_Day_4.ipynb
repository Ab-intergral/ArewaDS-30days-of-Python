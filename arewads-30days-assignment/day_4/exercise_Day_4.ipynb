{
 "cells": [
  {
   "cell_type": "markdown",
   "metadata": {},
   "source": [
    "# Exercise Day 3"
   ]
  },
  {
   "cell_type": "markdown",
   "metadata": {},
   "source": [
    "##### Question 1"
   ]
  },
  {
   "cell_type": "code",
   "execution_count": 1,
   "metadata": {},
   "outputs": [
    {
     "name": "stdout",
     "output_type": "stream",
     "text": [
      "Thirty Days Of Python\n"
     ]
    }
   ],
   "source": [
    "# Concatenating strings\n",
    "conc_str = 'Thirty' + ' ' + 'Days' + ' ' + 'Of' + ' ' + 'Python'\n",
    "\n",
    "print(conc_str)"
   ]
  },
  {
   "cell_type": "markdown",
   "metadata": {},
   "source": [
    "##### Question 2"
   ]
  },
  {
   "cell_type": "code",
   "execution_count": 2,
   "metadata": {},
   "outputs": [
    {
     "name": "stdout",
     "output_type": "stream",
     "text": [
      "Coding For All\n"
     ]
    }
   ],
   "source": [
    "# Concatenating two strings\n",
    "result = 'Coding' + ' ' + 'For' + ' ' + 'All'\n",
    "print(result)"
   ]
  },
  {
   "cell_type": "markdown",
   "metadata": {},
   "source": [
    "##### Question 3 - 13"
   ]
  },
  {
   "cell_type": "code",
   "execution_count": 13,
   "metadata": {},
   "outputs": [
    {
     "name": "stdout",
     "output_type": "stream",
     "text": [
      "Coding For All\n",
      "14\n",
      "Uppercase: CODING FOR ALL\n",
      "Lowercase: coding for all\n",
      "Capitalized: Coding for all\n",
      "Title case: Coding For All\n",
      "Swapcase: cODING fOR aLL\n",
      "First word: Coding\n",
      "'Coding' is present in the string.\n",
      "Python For All\n",
      "Python for All\n",
      "['Coding', 'For', 'All']\n"
     ]
    }
   ],
   "source": [
    "#Question 3: Declaring a variable for Coding For All\n",
    "company = \"Coding For All\"\n",
    "\n",
    "#Question 4: Printing the variable company\n",
    "print(company)\n",
    "\n",
    "# Questtion 5: Printing the length of the company\n",
    "print(len(company))\n",
    "\n",
    "# Question 6: Changing all characters to uppercase\n",
    "print(\"Uppercase:\", company.upper())\n",
    "\n",
    "# Question 7: Changing all characters to lowercase\n",
    "print(\"Lowercase:\", company.lower())\n",
    "\n",
    "# Question 8: Using capitalize(), title(), swapcase() methods to format\n",
    "print(\"Capitalized:\", company.capitalize())\n",
    "print(\"Title case:\", company.title())\n",
    "print(\"Swapcase:\", company.swapcase())\n",
    "\n",
    "# Question 9: Cut(slice) out the first word of Coding For All string\n",
    "first_word = company.split()[0]\n",
    "print(\"First word:\", first_word)\n",
    "\n",
    "# Question 10: Checking if Coding For All string contains a word 'Coding' using index() method\n",
    "if 'Coding' in company:\n",
    "    print(\"'Coding' is present in the string.\")\n",
    "else:\n",
    "    print(\"'Coding' is not present in the string.\")\n",
    "\n",
    "# Question 11: Replace the word 'Coding' in the string 'Coding For All' with 'Python'\n",
    "new_string = company.replace('Coding', 'Python')\n",
    "print(new_string)\n",
    "\n",
    "# Question 12: Change 'Python for Everyone' to 'Python for All' using replace method\n",
    "old_str = \"Python for Everyone\"\n",
    "new_str = old_str.replace('Everyone', 'All')\n",
    "print(new_str)\n",
    "\n",
    "# Question 13: Split the string 'Coding For All' using space as the separator (split())\n",
    "split_str = company.split()\n",
    "print(split_str)"
   ]
  },
  {
   "cell_type": "markdown",
   "metadata": {},
   "source": [
    "##### Question 14 - 24"
   ]
  },
  {
   "cell_type": "code",
   "execution_count": 27,
   "metadata": {},
   "outputs": [
    {
     "name": "stdout",
     "output_type": "stream",
     "text": [
      "['Facebook', 'Google', 'Microsoft', 'Apple', 'IBM', 'Oracle', 'Amazon']\n",
      "C\n",
      "l\n",
      " \n",
      "The acronym for 'Python For Everyone'is PFE\n",
      " The acronym for 'Coding For All' is CFA\n",
      " the position of first occurrence of C is 0\n",
      " the position of first occurrence of F is 7\n",
      " The position of last occurrence of 'l' is {last_l}\n",
      "the position of first occurrence of 'because' is 31\n",
      " the position of last occurrence of 'because' is 47\n"
     ]
    }
   ],
   "source": [
    "# giving initial string: \"Coding For All\" a variable\n",
    "str_1 = \"Coding For All\"\n",
    "\n",
    "# Question 14: Splitting the string at the comma\n",
    "companies = \"Facebook, Google, Microsoft, Apple, IBM, Oracle, Amazon\"\n",
    "split_companies = companies.split(', ')\n",
    "print(split_companies)\n",
    "\n",
    "# Question 15: Character at index 0 in \"Coding For All\"\n",
    "char_at_index_0 = str_1[0]\n",
    "print(char_at_index_0)\n",
    "\n",
    "# Question 16: Last index of the string \"Coding For All\"\n",
    "last_index = str_1[13]\n",
    "print(last_index)\n",
    "\n",
    "# Question 17: Character at index 10 in \"Coding For All\"\n",
    "index_10 = str_1[10]\n",
    "print(index_10)\n",
    "\n",
    "# Question 18: Acronym for 'Python For Everyone'\n",
    "str_2 = \"Python For Everyone\"\n",
    "acronym1 = ''.join(word[0] for word in str_2.split())\n",
    "print(f\"The acronym for 'Python For Everyone'is {acronym}\")\n",
    "\n",
    "# Question 19: Acronym for 'Coding For All'\n",
    "acronym2 = ''.join(word[0] for word in str_1.split())\n",
    "print(f\" The acronym for 'Coding For All' is {acronym2}\")\n",
    "\n",
    "# Question 20: Position of the first occurrence of C in \"Coding For All\"\n",
    "pos_c = str_1.index('C')\n",
    "print(f\" the position of first occurrence of C is {pos_c}\")\n",
    "\n",
    "# Question 21: Position of the first occurrence of F in \"Coding For All\"\n",
    "pos_f = str_1.index('F')\n",
    "print(f\" the position of first occurrence of F is {pos_f}\")\n",
    "\n",
    "# Question 22: Position of the last occurrence of 'l' in \"Coding For All People\"\n",
    "str_3 = \"Coding For All People\"\n",
    "pos_last_l = str_3.rfind('l')\n",
    "print(\" The position of last occurrence of 'l' is {last_l}\")\n",
    "\n",
    "# Question 23: Position of the first occurrence of 'because' in a sentence\n",
    "str_4 = 'You cannot end a sentence with because because because is a conjunction'\n",
    "pos_because = str_4.find('because')\n",
    "print(f\"the position of first occurrence of 'because' is {pos_because}\")\n",
    "\n",
    "# Position of the last occurrence of 'because' in a sentence\n",
    "last_pos_because = str_4.rindex('because')\n",
    "print(f\" the position of last occurrence of 'because' is {last_pos_because}\")"
   ]
  },
  {
   "cell_type": "markdown",
   "metadata": {},
   "source": [
    "##### Question 25 - 31"
   ]
  },
  {
   "cell_type": "code",
   "execution_count": 34,
   "metadata": {},
   "outputs": [
    {
     "name": "stdout",
     "output_type": "stream",
     "text": [
      "47\n",
      "because is a conjunction\n",
      "31\n",
      "because because because\n",
      "'Coding For All' starts with 'Coding' is True\n",
      "'Coding For All' ends with 'coding' is False\n",
      "Coding For All\n"
     ]
    }
   ],
   "source": [
    "sentence = 'You cannot end a sentence with because because because is a conjunction'\n",
    "\n",
    "# Question 25: Find the position of the last occurrence of the word 'because'\n",
    "last_pos_because = sentence.rindex('because')\n",
    "print(last_pos_because)\n",
    "\n",
    "# Question 26: Slice out the phrase 'because because because'\n",
    "phrase_slice = sentence[last_pos_because:]\n",
    "print(phrase_slice)\n",
    "\n",
    "# Question 27: Find the position of the first occurrence of the word 'because'\n",
    "first_pos_because = sentence.index('because')\n",
    "print(first_pos_because)\n",
    "\n",
    "# Question 28: Slice out the phrase 'because because because'\n",
    "phrase_slice_first = sentence[first_pos_because:first_pos_because + len('because because because')]\n",
    "print(phrase_slice_first)\n",
    "\n",
    "# Question 29: Check if 'Coding For All' starts with a substring 'Coding'\n",
    "start_substring = 'Coding For All'.startswith('Coding')\n",
    "print(f\"'Coding For All' starts with 'Coding' is {start_substring}\")\n",
    "\n",
    "# Question 30: Check if 'Coding For All' ends with a substring 'coding'\n",
    "end_substring = 'Coding For All'.endswith('coding')\n",
    "print(f\"'Coding For All' ends with 'coding' is {end_substring}\")\n",
    "\n",
    "# Question 31: Remove leading and trailing spaces from '   Coding For All      '\n",
    "fixed_string = '   Coding For All      '.strip()\n",
    "print(fixed_string)"
   ]
  },
  {
   "cell_type": "markdown",
   "metadata": {},
   "source": [
    "##### Question 32"
   ]
  },
  {
   "cell_type": "code",
   "execution_count": 36,
   "metadata": {},
   "outputs": [
    {
     "name": "stdout",
     "output_type": "stream",
     "text": [
      "Django # Flask # Bottle # Pyramid # Falcon\n"
     ]
    }
   ],
   "source": [
    "# The following list contains the names of some of python libraries: ['Django', 'Flask', 'Bottle', 'Pyramid', 'Falcon']. Join the list with a hash with space string\n",
    "library_names = ['Django', 'Flask', 'Bottle', 'Pyramid', 'Falcon']\n",
    "joined_names = ' # '.join(library_names)\n",
    "print(joined_names)"
   ]
  },
  {
   "cell_type": "markdown",
   "metadata": {},
   "source": [
    "##### Question 33"
   ]
  },
  {
   "cell_type": "code",
   "execution_count": 38,
   "metadata": {},
   "outputs": [
    {
     "name": "stdout",
     "output_type": "stream",
     "text": [
      "I am enjoying this challenge.\n",
      "I just wonder what is next.\n"
     ]
    }
   ],
   "source": [
    "a = \"I am enjoying this challenge.\\nI just wonder what is next.\"\n",
    "print(a)"
   ]
  },
  {
   "cell_type": "markdown",
   "metadata": {},
   "source": [
    "##### Question 34"
   ]
  },
  {
   "cell_type": "code",
   "execution_count": 40,
   "metadata": {},
   "outputs": [
    {
     "name": "stdout",
     "output_type": "stream",
     "text": [
      "Name\tAge\tCountry\tCity\n",
      "Asabeneh\t250\tFinland\tHelsinki\n"
     ]
    }
   ],
   "source": [
    "#using Use a tab escape sequence to write lines\n",
    "data = \"Name\\tAge\\tCountry\\tCity\\nAsabeneh\\t250\\tFinland\\tHelsinki\"\n",
    "print(data)"
   ]
  },
  {
   "cell_type": "markdown",
   "metadata": {},
   "source": [
    "##### Question 35"
   ]
  },
  {
   "cell_type": "code",
   "execution_count": 41,
   "metadata": {},
   "outputs": [
    {
     "data": {
      "text/plain": [
       "'The area of a circle with radius 10 is 314.0 meters square.'"
      ]
     },
     "execution_count": 41,
     "metadata": {},
     "output_type": "execute_result"
    }
   ],
   "source": [
    "# Using string formatting method to display\n",
    "radius = 10\n",
    "area = 3.14 * radius ** 2\n",
    "(f\"The area of a circle with radius {radius} is {area} meters square.\")"
   ]
  },
  {
   "cell_type": "markdown",
   "metadata": {},
   "source": [
    "##### Question 36"
   ]
  },
  {
   "cell_type": "code",
   "execution_count": 49,
   "metadata": {},
   "outputs": [
    {
     "name": "stdout",
     "output_type": "stream",
     "text": [
      "The sum of 8 and 6 is 14\n",
      "The difference of 8 and 6 is 2\n",
      "The Quotient of 8 and 6 is 1.33\n",
      "8 modulo 6 is 2\n",
      "The floor division of 8 and 6 is 1\n",
      "The exponent of 8 and 6 is 262144\n"
     ]
    }
   ],
   "source": [
    "#Make the following using string formatting methods:\n",
    "a , b = 8 , 6\n",
    "\n",
    "sum = a + b\n",
    "diff = a - b\n",
    "product = a * b\n",
    "div = a / b\n",
    "mod = a % b\n",
    "floor_div = a // b\n",
    "exp = a ** b\n",
    "\n",
    "# Print using formatting method:\n",
    "print(f'The sum of {a} and {b} is {sum}')\n",
    "print(f'The difference of {a} and {b} is {diff}')\n",
    "print(f'The Quotient of {a} and {b} is {div:.2f}')\n",
    "print(f'{a} modulo {b} is {mod}')\n",
    "print(f'The floor division of {a} and {b} is {floor_div}')\n",
    "print(f'The exponent of {a} and {b} is {exp}')\n"
   ]
  }
 ],
 "metadata": {
  "kernelspec": {
   "display_name": "base",
   "language": "python",
   "name": "python3"
  },
  "language_info": {
   "codemirror_mode": {
    "name": "ipython",
    "version": 3
   },
   "file_extension": ".py",
   "mimetype": "text/x-python",
   "name": "python",
   "nbconvert_exporter": "python",
   "pygments_lexer": "ipython3",
   "version": "3.11.5"
  }
 },
 "nbformat": 4,
 "nbformat_minor": 2
}
