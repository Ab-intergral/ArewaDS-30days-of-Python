{
 "cells": [
  {
   "cell_type": "markdown",
   "metadata": {},
   "source": [
    "# Exercise: Level 1"
   ]
  },
  {
   "cell_type": "markdown",
   "metadata": {},
   "source": [
    "##### Question 1"
   ]
  },
  {
   "cell_type": "code",
   "execution_count": 4,
   "metadata": {},
   "outputs": [
    {
     "name": "stdout",
     "output_type": "stream",
     "text": [
      "You need 7 more years to drive\n"
     ]
    }
   ],
   "source": [
    "#Get user input using input(“Enter your age: ”). If user is 18 or older, give feedback: \n",
    "#You are old enough to drive. If below 18 give feedback to wait for the missing amount of years.\n",
    "age = int(input('Enter your age: '))\n",
    "\n",
    "if age >= 18:\n",
    "    print('You are old enough to drive')\n",
    "else:\n",
    "    print(f'You need {18 - age} more years to drive')"
   ]
  },
  {
   "cell_type": "markdown",
   "metadata": {},
   "source": [
    "##### Question 2"
   ]
  },
  {
   "cell_type": "code",
   "execution_count": 13,
   "metadata": {},
   "outputs": [
    {
     "name": "stdout",
     "output_type": "stream",
     "text": [
      "I am 1 year older than you\n"
     ]
    }
   ],
   "source": [
    "# Compare the values of my_age and your_age using if … else. \n",
    "#Who is older (me or you)? Use input(“Enter your age: ”) to get the age as input.\n",
    "# You can use a nested condition to print 'year' for 1 year difference in age, 'years' for bigger differences, \n",
    "#and a custom text if my_age = your_age.\n",
    "my_age = 34\n",
    "your_age = int(input('Enter your age'))\n",
    "\n",
    "if my_age > your_age:\n",
    "    age_diff1 = my_age - your_age\n",
    "    if age_diff1 == 1:\n",
    "        print('I am 1 year older than you')\n",
    "    else:\n",
    "        (f'I am {age_diff1} years older than you')\n",
    "elif my_age < your_age:\n",
    "    age_diff2 = your_age - my_age\n",
    "    if age_diff2 == 1:\n",
    "        print('You are 1 year older than me')\n",
    "    else:\n",
    "        print(f'You are {age_diff2} years older than me')\n",
    "else:\n",
    "    print('We are age mates')\n"
   ]
  },
  {
   "cell_type": "markdown",
   "metadata": {},
   "source": [
    "##### Question 3"
   ]
  },
  {
   "cell_type": "code",
   "execution_count": 14,
   "metadata": {},
   "outputs": [
    {
     "name": "stdout",
     "output_type": "stream",
     "text": [
      "a is less than b\n"
     ]
    }
   ],
   "source": [
    "# Get two numbers from the user using input prompt. \n",
    "#If a is greater than b return a is greater than b, if a is less b return a is smaller than b, \n",
    "#else a is equal to b\n",
    "a = int(input('Enter the first number: '))\n",
    "b = int(input('Enter the second number: '))\n",
    "\n",
    "if a > b:\n",
    "    print('a is greater than b')\n",
    "elif a < b:\n",
    "    print('a is less than b')\n",
    "else:\n",
    "    print('a is equal to b')"
   ]
  },
  {
   "cell_type": "markdown",
   "metadata": {},
   "source": [
    "# Exercise: level 2"
   ]
  },
  {
   "cell_type": "markdown",
   "metadata": {},
   "source": [
    "##### Question 1"
   ]
  },
  {
   "cell_type": "code",
   "execution_count": 15,
   "metadata": {},
   "outputs": [
    {
     "name": "stdout",
     "output_type": "stream",
     "text": [
      "Your grade in English is C\n",
      "Your grade in Mathematics is A\n",
      "Your grade in Physics is F\n",
      "Your grade in Biology is D\n",
      "Your grade in Chemistry is E\n"
     ]
    }
   ],
   "source": [
    "Mathematics = int(input('Enter your score in Mathematics: '))\n",
    "English = int(input('Enter your score in English: '))\n",
    "Biology = int(input('Enter your score in Biology: '))\n",
    "Chemistry = int(input('Enter your score in Chemistry: '))\n",
    "Physics = int(input('Enter your score in Physics: '))\n",
    "\n",
    "if English >= 80:\n",
    "    print('Your grade in English is A')\n",
    "elif English >= 70 and English > 80:\n",
    "    print('Your grade in English is B')\n",
    "elif English >= 60 and English > 70:\n",
    "    print('Your grade in English is C')\n",
    "elif English >= 50 and English > 60:\n",
    "   print('Your grade in English is D')\n",
    "elif English >= 40 and English > 50:\n",
    "    print('Your grade in English is E')\n",
    "else:\n",
    "    print('Your grade in English is F')\n",
    "\n",
    "if Mathematics >= 80:\n",
    "    print('Your grade in Mathematics is A')\n",
    "elif Mathematics >= 70 and Mathematics > 80:\n",
    "    print('Your grade in Mathematics is B')\n",
    "elif Mathematics >= 60 and Mathematics > 70:\n",
    "    print('Your grade in Mathematics is C')\n",
    "elif Mathematics >= 50 and Mathematics > 60:\n",
    "   print('Your grade in Mathematics is D')\n",
    "elif Mathematics >= 40 and Mathematics > 50:\n",
    "    print('Your grade in Mathematics is E')\n",
    "else:\n",
    "    print('Your grade in Mathematics is F')\n",
    "\n",
    "if Physics >= 80:\n",
    "    print('Your grade in Physics is A')\n",
    "elif Physics >= 70 and Physics > 80:\n",
    "    print('Your grade in Physics is B')\n",
    "elif Physics >= 60 and Physics > 70:\n",
    "    print('Your grade in Physics is C')\n",
    "elif Physics >= 50 and Physics > 60:\n",
    "   print('Your grade in English is D')\n",
    "elif Physics >= 40 and Physics > 50:\n",
    "    print('Your grade in Physics is E')\n",
    "else:\n",
    "    print('Your grade in Physics is F')\n",
    "\n",
    "if Biology >= 80:\n",
    "    print('Your grade in Biology is A')\n",
    "elif Biology >= 70 and Biology > 80:\n",
    "    print('Your grade in Biology is B')\n",
    "elif Biology >= 60 and Biology > 70:\n",
    "    print('Your grade in Biology is C')\n",
    "elif Biology >= 50 and Biology > 60:\n",
    "   print('Your grade in Biology is D')\n",
    "elif Biology >= 40 and Biology > 50:\n",
    "    print('Your grade in Biology is E')\n",
    "else:\n",
    "    print('Your grade in Biology is F')\n",
    "\n",
    "if Chemistry >= 80:\n",
    "    print('Your grade in Chemistry is A')\n",
    "elif Chemistry >= 70 and Chemistry > 80:\n",
    "    print('Your grade in Chemistry is B')\n",
    "elif Chemistry >= 60 and Chemistry > 70:\n",
    "    print('Your grade in Chemistry is C')\n",
    "elif Chemistry >= 50 and Chemistry > 60:\n",
    "   print('Your grade in Chemistry is D')\n",
    "elif Chemistry >= 40 and Chemistry > 50:\n",
    "    print('Your grade in Chemistry is E')\n",
    "else:\n",
    "    print('Your grade in Chemistry is F')"
   ]
  },
  {
   "cell_type": "markdown",
   "metadata": {},
   "source": [
    "##### Question 2"
   ]
  },
  {
   "cell_type": "code",
   "execution_count": 18,
   "metadata": {},
   "outputs": [
    {
     "name": "stdout",
     "output_type": "stream",
     "text": [
      "The current season is Autumn\n"
     ]
    }
   ],
   "source": [
    "season = input('Enter the current month')\n",
    "\n",
    "if season == 'september' or 'october' or 'december':\n",
    "    print('The current season is Autumn')\n",
    "elif season == 'december' or 'january' or 'february':\n",
    "    print('The current season is winter')\n",
    "elif season == 'march' or 'april' or 'may':\n",
    "    print('The current season is Spring')\n",
    "else: \n",
    "    print('The current season is Summer')"
   ]
  },
  {
   "cell_type": "markdown",
   "metadata": {},
   "source": [
    "##### Question 3"
   ]
  },
  {
   "cell_type": "code",
   "execution_count": 19,
   "metadata": {},
   "outputs": [
    {
     "name": "stdout",
     "output_type": "stream",
     "text": [
      "Modified list of fruits: ['banana', 'orange', 'mango', 'lemon', 'pear']\n"
     ]
    }
   ],
   "source": [
    "fruits = ['banana', 'orange', 'mango', 'lemon']\n",
    "\n",
    "# Get input\n",
    "new_fruit = input(\"Enter a fruit: \")\n",
    "\n",
    "# Check if the fruit exists in the list\n",
    "if new_fruit.lower() in [fruit.lower() for fruit in fruits]:\n",
    "    print(\"That fruit already exists in the list.\")\n",
    "else:\n",
    "    # Add the fruit to the list\n",
    "    fruits.append(new_fruit)\n",
    "    print(\"Modified list of fruits:\", fruits)"
   ]
  },
  {
   "cell_type": "markdown",
   "metadata": {},
   "source": [
    "# Exercise: Level 3"
   ]
  },
  {
   "cell_type": "code",
   "execution_count": 20,
   "metadata": {},
   "outputs": [
    {
     "name": "stdout",
     "output_type": "stream",
     "text": [
      "The person has Python skill\n",
      "Middle skill: Node\n",
      "He is a front end developer\n",
      "Asabeneh lives in Finland and is married.\n"
     ]
    }
   ],
   "source": [
    "person = {\n",
    "    'first_name': 'Asabeneh',\n",
    "    'last_name': 'Yetayeh',\n",
    "    'age': 250,\n",
    "    'country': 'Finland',\n",
    "    'is_married': True,\n",
    "    'skills': ['JavaScript', 'React', 'Node', 'MongoDB', 'Python'],\n",
    "    'address': {\n",
    "        'street': 'Space street',\n",
    "        'zipcode': '02210'\n",
    "    }\n",
    "}\n",
    "\n",
    "# Check if the person dictionary has the 'skills' key\n",
    "if 'skills' in person:\n",
    "    skills = person['skills']\n",
    "    # Check if the person has Python skill\n",
    "    if 'Python' in skills:\n",
    "        print('The person has Python skill')\n",
    "    # Print the middle skill in the skills list\n",
    "    if len(skills) % 2 != 0:\n",
    "        middle_index = len(skills) // 2\n",
    "        print('Middle skill:', skills[middle_index])\n",
    "    else:\n",
    "        print('Middle skills:', skills[len(skills)//2 - 1], 'and', skills[len(skills)//2])\n",
    "\n",
    "    # Check for specific developer titles based on skills\n",
    "    if set(['JavaScript', 'React']).issubset(skills):\n",
    "        print('He is a front end developer')\n",
    "    elif set(['Node', 'Python', 'MongoDB']).issubset(skills):\n",
    "        print('He is a backend developer')\n",
    "    elif set(['React', 'Node', 'MongoDB']).issubset(skills):\n",
    "        print('He is a fullstack developer')\n",
    "    else:\n",
    "        print('Unknown title')\n",
    "\n",
    "# Print information based on marriage and country\n",
    "if person['is_married'] and person['country'] == 'Finland':\n",
    "    print(f\"{person['first_name']} lives in {person['country']} and is married.\")"
   ]
  }
 ],
 "metadata": {
  "kernelspec": {
   "display_name": "base",
   "language": "python",
   "name": "python3"
  },
  "language_info": {
   "codemirror_mode": {
    "name": "ipython",
    "version": 3
   },
   "file_extension": ".py",
   "mimetype": "text/x-python",
   "name": "python",
   "nbconvert_exporter": "python",
   "pygments_lexer": "ipython3",
   "version": "3.11.5"
  }
 },
 "nbformat": 4,
 "nbformat_minor": 2
}
