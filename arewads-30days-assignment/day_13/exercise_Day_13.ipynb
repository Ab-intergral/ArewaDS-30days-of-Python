{
 "cells": [
  {
   "cell_type": "markdown",
   "metadata": {},
   "source": [
    "# Exercise: Level 1"
   ]
  },
  {
   "cell_type": "markdown",
   "metadata": {},
   "source": [
    "##### Question 1"
   ]
  },
  {
   "cell_type": "code",
   "execution_count": 1,
   "metadata": {},
   "outputs": [
    {
     "name": "stdout",
     "output_type": "stream",
     "text": [
      "[-4, -3, -2, -1, 0]\n"
     ]
    }
   ],
   "source": [
    "# Filter only negative and zero in the list using list comprehension\n",
    "\n",
    "numbers = [-4, -3, -2, -1, 0, 2, 4, 6]\n",
    "negative_and_zero = [num for num in numbers if num <= 0]\n",
    "print(negative_and_zero)"
   ]
  },
  {
   "cell_type": "markdown",
   "metadata": {},
   "source": [
    "##### Question 2"
   ]
  },
  {
   "cell_type": "code",
   "execution_count": 2,
   "metadata": {},
   "outputs": [
    {
     "name": "stdout",
     "output_type": "stream",
     "text": [
      "[1, 2, 3, 4, 5, 6, 7, 8, 9]\n"
     ]
    }
   ],
   "source": [
    "# Flatten the following list of lists of lists to a one dimensional list :\n",
    "list_of_lists = [[[1, 2, 3]], [[4, 5, 6]], [[7, 8, 9]]]\n",
    "\n",
    "flat_list = [item for sublist in list_of_lists for subsublist in sublist for item in subsublist]\n",
    "print(flat_list)"
   ]
  },
  {
   "cell_type": "markdown",
   "metadata": {},
   "source": [
    "##### Question 3"
   ]
  },
  {
   "cell_type": "code",
   "execution_count": 4,
   "metadata": {},
   "outputs": [
    {
     "name": "stdout",
     "output_type": "stream",
     "text": [
      "(0, 1, 0, 0, 0, 0, 0)\n",
      "(1, 1, 1, 1, 1, 1, 1)\n",
      "(2, 1, 2, 4, 8, 16, 32)\n",
      "(3, 1, 3, 9, 27, 81, 243)\n",
      "(4, 1, 4, 16, 64, 256, 1024)\n",
      "(5, 1, 5, 25, 125, 625, 3125)\n",
      "(6, 1, 6, 36, 216, 1296, 7776)\n",
      "(7, 1, 7, 49, 343, 2401, 16807)\n",
      "(8, 1, 8, 64, 512, 4096, 32768)\n",
      "(9, 1, 9, 81, 729, 6561, 59049)\n",
      "(10, 1, 10, 100, 1000, 10000, 100000)\n"
     ]
    }
   ],
   "source": [
    "# Using list comprehension create the following list of tuples\n",
    "result = [(i, 1, i, i ** 2, i ** 3, i ** 4, i ** 5) for i in range(11)]\n",
    "for item in result:\n",
    "    print(item)\n"
   ]
  },
  {
   "cell_type": "markdown",
   "metadata": {},
   "source": [
    "##### Question 4"
   ]
  },
  {
   "cell_type": "code",
   "execution_count": 8,
   "metadata": {},
   "outputs": [
    {
     "name": "stdout",
     "output_type": "stream",
     "text": [
      "[['FINLAND', 'HELSINKI'], ['SWEDEN', 'STOCKHOLM'], ['NORWAY', 'OSLO']]\n"
     ]
    }
   ],
   "source": [
    "countries = [[('Finland', 'Helsinki')], [('Sweden', 'Stockholm')], [('Norway', 'Oslo')]]\n",
    "\n",
    "modified_countries = [[country.upper(), city.upper()] for [(country, city)] in countries]\n",
    "print(modified_countries)"
   ]
  },
  {
   "cell_type": "markdown",
   "metadata": {},
   "source": [
    "##### Question 5"
   ]
  },
  {
   "cell_type": "code",
   "execution_count": 10,
   "metadata": {},
   "outputs": [
    {
     "name": "stdout",
     "output_type": "stream",
     "text": [
      "[{'country': 'FINLAND', 'city': 'HELSINKI'}, {'country': 'SWEDEN', 'city': 'STOCKHOLM'}, {'country': 'NORWAY', 'city': 'OSLO'}]\n"
     ]
    }
   ],
   "source": [
    "# Change the following list to a list of dictionaries:\n",
    "countries = [[('Finland', 'Helsinki')], [('Sweden', 'Stockholm')], [('Norway', 'Oslo')]]\n",
    "\n",
    "modified_countries = [{'country': country.upper(), 'city': city.upper()} for [(country, city)] in countries]\n",
    "print(modified_countries)"
   ]
  },
  {
   "cell_type": "markdown",
   "metadata": {},
   "source": [
    "##### Question 6"
   ]
  },
  {
   "cell_type": "code",
   "execution_count": 11,
   "metadata": {},
   "outputs": [
    {
     "name": "stdout",
     "output_type": "stream",
     "text": [
      "['Asabeneh Yetayeh', 'David Smith', 'Donald Trump', 'Bill Gates']\n"
     ]
    }
   ],
   "source": [
    "# Change the following list of lists to a list of concatenated strings:\n",
    "names = [[('Asabeneh', 'Yetayeh')], [('David', 'Smith')], [('Donald', 'Trump')], [('Bill', 'Gates')]]\n",
    "\n",
    "concatenated_names = [' '.join((first, last)) for [(first, last)] in names]\n",
    "print(concatenated_names)"
   ]
  },
  {
   "cell_type": "markdown",
   "metadata": {},
   "source": [
    "##### Question 7"
   ]
  },
  {
   "cell_type": "code",
   "execution_count": 13,
   "metadata": {},
   "outputs": [
    {
     "name": "stdout",
     "output_type": "stream",
     "text": [
      "Slope: 1.0\n",
      "Y-intercept: 1.0\n"
     ]
    }
   ],
   "source": [
    "# Lambda function to calculate slope\n",
    "slope = lambda x1, y1, x2, y2: (y2 - y1) / (x2 - x1) if x2 != x1 else None\n",
    "\n",
    "# Lambda function to calculate y-intercept\n",
    "y_intercept = lambda x1, y1, slope: y1 - slope * x1 if slope is not None else None\n",
    "\n",
    "x1, y1 = int(input('Enter the value for the point x1: ')), int(input('Enter the value for the point y1: '))\n",
    "x2, y2 = int(input('Enter the value for the point x2: ')), int(input('Enter the value for the point y2: '))\n",
    "\n",
    "# Calculate slope\n",
    "m = slope(x1, y1, x2, y2)\n",
    "print(f\"Slope: {m}\")\n",
    "\n",
    "# Calculate y-intercept if slope is not None\n",
    "if m is not None:\n",
    "    b = y_intercept(x1, y1, m)\n",
    "    print(f\"Y-intercept: {b}\")"
   ]
  }
 ],
 "metadata": {
  "kernelspec": {
   "display_name": "Python 3",
   "language": "python",
   "name": "python3"
  },
  "language_info": {
   "codemirror_mode": {
    "name": "ipython",
    "version": 3
   },
   "file_extension": ".py",
   "mimetype": "text/x-python",
   "name": "python",
   "nbconvert_exporter": "python",
   "pygments_lexer": "ipython3",
   "version": "3.12.1"
  }
 },
 "nbformat": 4,
 "nbformat_minor": 2
}
