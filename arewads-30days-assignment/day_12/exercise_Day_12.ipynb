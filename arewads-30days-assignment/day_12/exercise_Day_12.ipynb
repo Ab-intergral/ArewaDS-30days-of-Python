{
 "cells": [
  {
   "cell_type": "markdown",
   "metadata": {},
   "source": [
    "# Exercise: Level 1"
   ]
  },
  {
   "cell_type": "markdown",
   "metadata": {},
   "source": [
    "##### Question 1"
   ]
  },
  {
   "cell_type": "code",
   "execution_count": 4,
   "metadata": {},
   "outputs": [
    {
     "name": "stdout",
     "output_type": "stream",
     "text": [
      "t2fqP5\n"
     ]
    }
   ],
   "source": [
    "# Writ a function which generates a six digit/character random_user_id.\n",
    "import random\n",
    "import string\n",
    "\n",
    "def random_user_id():\n",
    "    characters = string.ascii_letters + string.digits\n",
    "    random_id = ''.join(random.choices(characters, k=6))\n",
    "    return random_id\n",
    "print(random_user_id())"
   ]
  },
  {
   "cell_type": "markdown",
   "metadata": {},
   "source": [
    "##### Question 2"
   ]
  },
  {
   "cell_type": "code",
   "execution_count": 6,
   "metadata": {},
   "outputs": [
    {
     "name": "stdout",
     "output_type": "stream",
     "text": [
      "BXmq9Nc\n",
      "mk2Lnr3\n",
      "nAC9t3h\n",
      "xVQ3B2f\n",
      "qccKzjq\n",
      "clqmb3h\n",
      "mnYGTPs\n",
      "3FYvFZf\n"
     ]
    }
   ],
   "source": [
    "# Modify the previous task. Declare a function named user_id_gen_by_user. \n",
    "# It doesn’t take any parameters but it takes two inputs using input(). \n",
    "# One of the inputs is the number of characters and the second input is the number of \n",
    "# IDs which are supposed to be generated.\n",
    "\n",
    "import random\n",
    "import string\n",
    "\n",
    "def user_id_gen_by_user():\n",
    "    num_chars = int(input(\"Enter the number of characters for each ID: \"))\n",
    "    num_ids = int(input(\"Enter the number of IDs to generate: \"))\n",
    "\n",
    "    for _ in range(num_ids):\n",
    "        characters = string.ascii_letters + string.digits\n",
    "        random_id = ''.join(random.choices(characters, k=num_chars))\n",
    "        print(random_id)\n",
    "\n",
    "\n",
    "user_id_gen_by_user()"
   ]
  },
  {
   "cell_type": "markdown",
   "metadata": {},
   "source": [
    "##### Question 3"
   ]
  },
  {
   "cell_type": "code",
   "execution_count": 7,
   "metadata": {},
   "outputs": [
    {
     "name": "stdout",
     "output_type": "stream",
     "text": [
      "Generated RGB color: (39, 212, 2)\n"
     ]
    }
   ],
   "source": [
    "# Write a function named rgb_color_gen. It will generate rgb colors (3 values ranging from 0 to 255 each).\n",
    "import random\n",
    "\n",
    "def rgb_color_gen():\n",
    "    r = random.randint(0, 255)\n",
    "    g = random.randint(0, 255)\n",
    "    b = random.randint(0, 255)\n",
    "    return r, g, b\n",
    "\n",
    "\n",
    "color = rgb_color_gen()\n",
    "print(f\"Generated RGB color: {color}\")"
   ]
  },
  {
   "cell_type": "markdown",
   "metadata": {},
   "source": [
    "# Exercise: Level 2"
   ]
  },
  {
   "cell_type": "markdown",
   "metadata": {},
   "source": [
    "##### Question 1"
   ]
  },
  {
   "cell_type": "code",
   "execution_count": 9,
   "metadata": {},
   "outputs": [
    {
     "name": "stdout",
     "output_type": "stream",
     "text": [
      "Generated Hexadecimal Colors: ['#ba3ed7', '#32bbf8', '#eb183c', '#b27823', '#07bc17']\n"
     ]
    }
   ],
   "source": [
    "# Write a function list_of_hexa_colors which returns any number of hexadecimal colors in an array (six hexadecimal numbers written after \n",
    "#. Hexadecimal numeral system is made out of 16 symbols, 0-9 and first 6 letters of the alphabet, a-f. \n",
    "# Check the task 6 for output examples).\n",
    "import random\n",
    "\n",
    "def list_of_hexa_colors(num_colors):\n",
    "    hex_colors = []\n",
    "    for _ in range(num_colors):\n",
    "        hex_color = '#' + ''.join([random.choice('0123456789abcdef') for _ in range(6)])\n",
    "        hex_colors.append(hex_color)\n",
    "    return hex_colors\n",
    "\n",
    "\n",
    "number_of_colors = 5\n",
    "colors = list_of_hexa_colors(number_of_colors)\n",
    "print(f\"Generated Hexadecimal Colors: {colors}\")"
   ]
  },
  {
   "cell_type": "markdown",
   "metadata": {},
   "source": [
    "##### Question 2"
   ]
  },
  {
   "cell_type": "code",
   "execution_count": 10,
   "metadata": {},
   "outputs": [
    {
     "name": "stdout",
     "output_type": "stream",
     "text": [
      "Generated RGB Colors: [(205, 244, 155), (17, 143, 15), (89, 157, 236), (178, 8, 213), (170, 131, 76)]\n"
     ]
    }
   ],
   "source": [
    "# Write a function list_of_rgb_colors which returns any number of RGB colors in an array.\n",
    "import random\n",
    "\n",
    "def list_of_rgb_colors(num_colors):\n",
    "    rgb_colors = []\n",
    "    for _ in range(num_colors):\n",
    "        r = random.randint(0, 255)\n",
    "        g = random.randint(0, 255)\n",
    "        b = random.randint(0, 255)\n",
    "        rgb_colors.append((r, g, b))\n",
    "    return rgb_colors\n",
    "\n",
    "\n",
    "number_of_colors = 5\n",
    "colors = list_of_rgb_colors(number_of_colors)\n",
    "print(f\"Generated RGB Colors: {colors}\")"
   ]
  },
  {
   "cell_type": "markdown",
   "metadata": {},
   "source": [
    "##### Question 3"
   ]
  },
  {
   "cell_type": "code",
   "execution_count": 11,
   "metadata": {},
   "outputs": [
    {
     "name": "stdout",
     "output_type": "stream",
     "text": [
      "Generated Hexadecimal Colors: ['#a5e409', '#fb1393', '#502447', '#ed0bcf', '#21fefd']\n",
      "Generated RGB Colors: [(110, 252, 185), (66, 255, 36), (74, 179, 80), (134, 35, 122), (71, 234, 116)]\n"
     ]
    }
   ],
   "source": [
    "# Write a function generate_colors which can generate any number of hexa or rgb colors.\n",
    "import random\n",
    "\n",
    "def generate_colors(num_colors, color_type='hex'):\n",
    "    colors = []\n",
    "    if color_type == 'hex':\n",
    "        for _ in range(num_colors):\n",
    "            hex_color = '#' + ''.join([random.choice('0123456789abcdef') for _ in range(6)])\n",
    "            colors.append(hex_color)\n",
    "    elif color_type == 'rgb':\n",
    "        for _ in range(num_colors):\n",
    "            r = random.randint(0, 255)\n",
    "            g = random.randint(0, 255)\n",
    "            b = random.randint(0, 255)\n",
    "            colors.append((r, g, b))\n",
    "    else:\n",
    "        print(\"Invalid color type. Please choose 'hex' or 'rgb'.\")\n",
    "\n",
    "    return colors\n",
    "\n",
    "# Example usage:\n",
    "number_of_colors = 5\n",
    "hex_colors = generate_colors(number_of_colors, 'hex')\n",
    "rgb_colors = generate_colors(number_of_colors, 'rgb')\n",
    "\n",
    "print(f\"Generated Hexadecimal Colors: {hex_colors}\")\n",
    "print(f\"Generated RGB Colors: {rgb_colors}\")"
   ]
  },
  {
   "cell_type": "markdown",
   "metadata": {},
   "source": [
    "# Exercise: Level 3"
   ]
  },
  {
   "cell_type": "markdown",
   "metadata": {},
   "source": [
    "##### Question 1"
   ]
  },
  {
   "cell_type": "code",
   "execution_count": 12,
   "metadata": {},
   "outputs": [
    {
     "name": "stdout",
     "output_type": "stream",
     "text": [
      "[2, 1, 3, 4, 5]\n"
     ]
    }
   ],
   "source": [
    "# Call your function shuffle_list, it takes a list as a parameter and it returns a shuffled list\n",
    "import random\n",
    "\n",
    "def shuffle_list(my_list):\n",
    "    shuffled = my_list[:]\n",
    "    random.shuffle(shuffled)\n",
    "    return shuffled\n",
    "\n",
    "original_list = [1, 2, 3, 4, 5]\n",
    "shuffled_list = shuffle_list(original_list)\n",
    "print(shuffled_list)"
   ]
  },
  {
   "cell_type": "markdown",
   "metadata": {},
   "source": [
    "##### Question 2"
   ]
  },
  {
   "cell_type": "code",
   "execution_count": 14,
   "metadata": {},
   "outputs": [
    {
     "name": "stdout",
     "output_type": "stream",
     "text": [
      "[6, 5, 3, 8, 0, 7, 4]\n"
     ]
    }
   ],
   "source": [
    "# Write a function which returns an array of seven random numbers in a range of 0-9.\n",
    "# All the numbers must be unique.\n",
    "import random\n",
    "\n",
    "def seven_unique_random_numbers():\n",
    "    numbers = []\n",
    "    while len(numbers) < 7:\n",
    "        num = random.randint(0, 9)\n",
    "        if num not in numbers:\n",
    "            numbers.append(num)\n",
    "    return numbers\n",
    "\n",
    "random_numbers = seven_unique_random_numbers()\n",
    "print(random_numbers)"
   ]
  }
 ],
 "metadata": {
  "kernelspec": {
   "display_name": "Python 3",
   "language": "python",
   "name": "python3"
  },
  "language_info": {
   "codemirror_mode": {
    "name": "ipython",
    "version": 3
   },
   "file_extension": ".py",
   "mimetype": "text/x-python",
   "name": "python",
   "nbconvert_exporter": "python",
   "pygments_lexer": "ipython3",
   "version": "3.12.1"
  }
 },
 "nbformat": 4,
 "nbformat_minor": 2
}
