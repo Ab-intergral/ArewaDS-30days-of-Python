{
 "cells": [
  {
   "cell_type": "markdown",
   "metadata": {},
   "source": [
    "# Exercise: Level 1"
   ]
  },
  {
   "cell_type": "markdown",
   "metadata": {},
   "source": [
    "### Question 1"
   ]
  },
  {
   "cell_type": "code",
   "execution_count": 3,
   "metadata": {},
   "outputs": [
    {
     "name": "stdout",
     "output_type": "stream",
     "text": [
      "Python 3.12.1\n"
     ]
    }
   ],
   "source": [
    "!python --version"
   ]
  },
  {
   "cell_type": "markdown",
   "metadata": {},
   "source": [
    "### Question 2"
   ]
  },
  {
   "cell_type": "code",
   "execution_count": 2,
   "metadata": {},
   "outputs": [
    {
     "name": "stdout",
     "output_type": "stream",
     "text": [
      "7\n",
      "-1\n",
      "12\n",
      "3\n",
      "0.75\n",
      "81\n",
      "0\n"
     ]
    }
   ],
   "source": [
    "a = 3\n",
    "b = 4\n",
    "\n",
    "# Addition\n",
    "sum = a + b\n",
    "print(sum)\n",
    "\n",
    "# subtraction\n",
    "sub = a - b\n",
    "print(sub)\n",
    "\n",
    "# multiplication\n",
    "mul = a * b\n",
    "print(mul)\n",
    "\n",
    "# Modulus\n",
    "mod = a % b\n",
    "print(mod)\n",
    "\n",
    "# Division\n",
    "div = a / b\n",
    "print(div)\n",
    "\n",
    "# Exponential\n",
    "exp = a ** b\n",
    "print(exp)\n",
    "\n",
    "# Floor Division\n",
    "fdiv = a // b\n",
    "print(fdiv)\n"
   ]
  },
  {
   "cell_type": "markdown",
   "metadata": {},
   "source": [
    "### Question 3"
   ]
  },
  {
   "cell_type": "code",
   "execution_count": 48,
   "metadata": {},
   "outputs": [
    {
     "name": "stdout",
     "output_type": "stream",
     "text": [
      "My name is Abubakar\n",
      "The name of my family is Idi Bulama\n",
      "My country is Nigeria\n",
      "I am enjoying 30 days of python\n"
     ]
    }
   ],
   "source": [
    "\n",
    "a = \"My name is Abubakar\"\n",
    "print(a)\n",
    "b = \"The name of my family is Idi Bulama\"\n",
    "print(b)\n",
    "c = \"My country is Nigeria\"\n",
    "print(c)\n",
    "d = \"I am enjoying 30 days of python\"\n",
    "print(d)\n"
   ]
  },
  {
   "cell_type": "markdown",
   "metadata": {},
   "source": [
    "### Question 4"
   ]
  },
  {
   "cell_type": "code",
   "execution_count": 50,
   "metadata": {},
   "outputs": [
    {
     "name": "stdout",
     "output_type": "stream",
     "text": [
      "The data type of 10 is <class 'int'>\n",
      "The data type of 9.8 is <class 'float'>\n",
      "The data type of 3.14 is <class 'float'>\n",
      "The data type of (4-4j) is <class 'complex'>\n",
      "The data type of ['Asabeneh', 'Python', 'Finland'] is <class 'list'>\n",
      "The data type of Your name is <class 'str'>\n",
      "The data type of Your family name is <class 'str'>\n",
      "The data type of Your country is <class 'str'>\n"
     ]
    }
   ],
   "source": [
    "# checking of data types\n",
    "data = [\n",
    "    10,\n",
    "    9.8,\n",
    "    3.14,\n",
    "    4 - 4j,\n",
    "    ['Asabeneh', 'Python', 'Finland'],\n",
    "    'Your name',\n",
    "    'Your family name',\n",
    "    'Your country'\n",
    "]\n",
    "\n",
    "# Printing data types\n",
    "for i in data:\n",
    "    print(f'The data type of {i} is {type(i)}')"
   ]
  },
  {
   "cell_type": "markdown",
   "metadata": {},
   "source": [
    "# Exercise: Level 2"
   ]
  },
  {
   "cell_type": "markdown",
   "metadata": {},
   "source": [
    "##### Create a folder named day_1 inside 30DaysOfPython folder. Inside day_1 folder, create a python file helloworld.py and repeat questions 1, 2, 3 and 4. Remember to use print() when you are working on a python file. Navigate to the directory where you have saved your file, and run it."
   ]
  },
  {
   "cell_type": "markdown",
   "metadata": {},
   "source": [
    "# Exercise: Level 3"
   ]
  },
  {
   "cell_type": "markdown",
   "metadata": {},
   "source": [
    "### Question 1"
   ]
  },
  {
   "cell_type": "code",
   "execution_count": 54,
   "metadata": {},
   "outputs": [
    {
     "name": "stdout",
     "output_type": "stream",
     "text": [
      "Integer: 50\n",
      "Float: 24.7\n",
      "Complex: (7-8j)\n",
      "String: I am from Adamawa state!\n",
      "Boolean: True\n",
      "List: [2, 3, 'mango', 'banana']\n",
      "Tuple: (4, 5, 'pear', 'orange')\n",
      "Set: {'Kebbi', 'Borno', 'Yobe', 'Adamawa'}\n",
      "Dictionary: {'name': 'Abubakar', 'age': 29, 'country': 'Nigeria'}\n"
     ]
    }
   ],
   "source": [
    "# Number data types examples\n",
    "integer_num = 50  # Integer\n",
    "print(f'Integer: {integer_num}')\n",
    "float_num = 24.7  # Float\n",
    "print(f'Float: {float_num}')\n",
    "complex_num = 7 - 8j  # Complex\n",
    "print(f'Complex: {complex_num}')\n",
    "\n",
    "# String data type example\n",
    "my_state = 'I am from Adamawa state!'\n",
    "print(f'String: {my_state}')\n",
    "\n",
    "# Boolean data type example\n",
    "arewaDs = True\n",
    "print(f'Boolean: {arewaDs}')\n",
    "\n",
    "# List data type example\n",
    "fruits_in_bag = [2, 3, 'mango', 'banana']\n",
    "print(f'List: {fruits_in_bag}')\n",
    "\n",
    "# Tuple data example\n",
    "fruits_in_basket = (4, 5, 'pear', 'orange')\n",
    "print(f'Tuple: {fruits_in_basket}')\n",
    "\n",
    "# Set data example\n",
    "states = {'Adamawa', 'Kebbi', 'Yobe', 'Borno'}\n",
    "print(f'Set: {states}')\n",
    "\n",
    "# Dictionary data example\n",
    "my_info = {'name': 'Abubakar', 'age': 29, 'country': 'Nigeria'}\n",
    "print(f'Dictionary: {my_info}')"
   ]
  },
  {
   "cell_type": "markdown",
   "metadata": {},
   "source": [
    "### Question 2"
   ]
  },
  {
   "cell_type": "code",
   "execution_count": 55,
   "metadata": {},
   "outputs": [
    {
     "name": "stdout",
     "output_type": "stream",
     "text": [
      "The Euclidean distance between is: 9.433981132056603\n"
     ]
    }
   ],
   "source": [
    "import math\n",
    "\n",
    "# assigning variables for each coordinate\n",
    "x1 = 2\n",
    "x2 = 10\n",
    "y1 = 3\n",
    "y2 = 8\n",
    "\n",
    "# Calculating Euclidean distance\n",
    "distance = math.sqrt((x2 - x1)**2 + (y2 - y1)**2)\n",
    "\n",
    "# result\n",
    "print(f\"The Euclidean distance between is: {distance}\")\n"
   ]
  }
 ],
 "metadata": {
  "kernelspec": {
   "display_name": "base",
   "language": "python",
   "name": "python3"
  },
  "language_info": {
   "codemirror_mode": {
    "name": "ipython",
    "version": 3
   },
   "file_extension": ".py",
   "mimetype": "text/x-python",
   "name": "python",
   "nbconvert_exporter": "python",
   "pygments_lexer": "ipython3",
   "version": "3.12.1"
  }
 },
 "nbformat": 4,
 "nbformat_minor": 2
}
