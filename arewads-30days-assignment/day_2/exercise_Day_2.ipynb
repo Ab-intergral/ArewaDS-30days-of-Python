{
 "cells": [
  {
   "cell_type": "markdown",
   "metadata": {},
   "source": [
    "# Exercise: Level 1"
   ]
  },
  {
   "cell_type": "code",
   "execution_count": 2,
   "metadata": {},
   "outputs": [
    {
     "name": "stdout",
     "output_type": "stream",
     "text": [
      "Abubakar\n",
      "Idi\n",
      "Abubakar Idi\n",
      "Nigeria\n",
      "Yola\n",
      "29\n",
      "2023\n",
      "True\n",
      "True\n",
      "True\n",
      "My name is Abubakar Idi and i am 29 years old, i currently live at Damilu Jimeta, Yola. I studied B.Sc Mathematics and i am a Consultant\n"
     ]
    }
   ],
   "source": [
    "# Day 2: 30 Days of Python Programming\n",
    "\n",
    "first_name = 'Abubakar'\n",
    "print(first_name)\n",
    "\n",
    "last_name = 'Idi'\n",
    "print(last_name)\n",
    "\n",
    "full_name = first_name + ' ' + last_name\n",
    "print(full_name)\n",
    "\n",
    "country = 'Nigeria'\n",
    "print(country)\n",
    "\n",
    "city = 'Yola'\n",
    "print(city)\n",
    "\n",
    "age = 29\n",
    "print(age)\n",
    "\n",
    "year = 2023\n",
    "print(year)\n",
    "\n",
    "is_married = True\n",
    "print(is_married)\n",
    "\n",
    "is_true = True\n",
    "print(is_true)\n",
    "\n",
    "is_light_on = True\n",
    "print(is_light_on)\n",
    "\n",
    "address, education, job = 'Damilu Jimeta', 'B.Sc Mathematics', 'Consultant'\n",
    "print(f'My name is {full_name} and i am {age} years old, i currently live at {address}, {city}. I studied {education} and i am a {job}')"
   ]
  },
  {
   "cell_type": "markdown",
   "metadata": {},
   "source": [
    "# Exercise: Level 2"
   ]
  },
  {
   "cell_type": "markdown",
   "metadata": {},
   "source": [
    "#### Question 1"
   ]
  },
  {
   "cell_type": "code",
   "execution_count": 3,
   "metadata": {},
   "outputs": [
    {
     "name": "stdout",
     "output_type": "stream",
     "text": [
      "Data type of first_name: <class 'str'>\n",
      "Data type of last_name: <class 'str'>\n",
      "Data type of full_name: <class 'str'>\n",
      "Data type of country: <class 'str'>\n",
      "Data type of city: <class 'str'>\n",
      "Data type of age: <class 'int'>\n",
      "Data type of year: <class 'int'>\n",
      "Data type of is_married: <class 'bool'>\n",
      "Data type of is_true: <class 'bool'>\n",
      "Data type of is_light_on: <class 'bool'>\n"
     ]
    }
   ],
   "source": [
    "# Check data types of variables\n",
    "print(f'Data type of first_name: {type(first_name)}')\n",
    "print(f'Data type of last_name: {type(last_name)}')\n",
    "print(f'Data type of full_name: {type(full_name)}')\n",
    "print(f'Data type of country: {type(country)}')\n",
    "print(f'Data type of city: {type(city)}')\n",
    "print(f'Data type of age: {type(age)}')\n",
    "print(f'Data type of year: {type(year)}')\n",
    "print(f'Data type of is_married: {type(is_married)}')\n",
    "print(f'Data type of is_true: {type(is_true)}')\n",
    "print(f'Data type of is_light_on: {type(is_light_on)}')"
   ]
  },
  {
   "cell_type": "markdown",
   "metadata": {},
   "source": [
    "#### Question 2"
   ]
  },
  {
   "cell_type": "code",
   "execution_count": 4,
   "metadata": {},
   "outputs": [
    {
     "name": "stdout",
     "output_type": "stream",
     "text": [
      "Length of first name: 8\n"
     ]
    }
   ],
   "source": [
    "# Using the len() built-in function, find the length of your first name\n",
    "length_first_name = len(first_name)\n",
    "print(f'Length of first name: {length_first_name}')"
   ]
  },
  {
   "cell_type": "markdown",
   "metadata": {},
   "source": [
    "#### Question 3"
   ]
  },
  {
   "cell_type": "code",
   "execution_count": 5,
   "metadata": {},
   "outputs": [
    {
     "name": "stdout",
     "output_type": "stream",
     "text": [
      "First name is longer than last name\n"
     ]
    }
   ],
   "source": [
    "# Compare the length of the first name and last name\n",
    "length_last_name = len(last_name)\n",
    "if length_first_name > length_last_name:\n",
    "    print('First name is longer than last name')\n",
    "elif length_first_name < length_last_name:\n",
    "    print('Last name is longer than first name')\n",
    "else:\n",
    "    print('First name and last name have the same length')\n"
   ]
  },
  {
   "cell_type": "markdown",
   "metadata": {},
   "source": [
    "#### Question 4"
   ]
  },
  {
   "cell_type": "code",
   "execution_count": 8,
   "metadata": {},
   "outputs": [
    {
     "name": "stdout",
     "output_type": "stream",
     "text": [
      "Sum = 9\n",
      "Difference = 1\n",
      "Product = 20\n",
      "Division = 1.25\n",
      "Modulus = 4\n",
      "Exponentiation = 625\n",
      "Floor Division = 1\n"
     ]
    }
   ],
   "source": [
    "# Declaring the variables\n",
    "num_one = 5\n",
    "num_two = 4\n",
    "\n",
    "# Performing the operations\n",
    "sum = num_one + num_two\n",
    "diff = num_one - num_two\n",
    "product = num_one * num_two\n",
    "div = num_one / num_two\n",
    "mod = num_two % num_one\n",
    "exp = num_one ** num_two\n",
    "floor_div = num_one // num_two\n",
    "\n",
    "# Display the results\n",
    "print(f\"Sum = {sum}\")\n",
    "print(f\"Difference = {diff}\")\n",
    "print(f\"Product = {product}\")\n",
    "print(f\"Division = {div}\")\n",
    "print(f\"Modulus = {mod}\")\n",
    "print(f\"Exponentiation = {exp}\")\n",
    "print(f\"Floor Division = {floor_div}\")\n"
   ]
  },
  {
   "cell_type": "markdown",
   "metadata": {},
   "source": [
    "#### Question 5"
   ]
  },
  {
   "cell_type": "code",
   "execution_count": 4,
   "metadata": {},
   "outputs": [
    {
     "name": "stdout",
     "output_type": "stream",
     "text": [
      "Area of circle with radius 30m is 2827.43339 square meters\n",
      "Circumference of circle with radius 30m is 188.49556m\n",
      "Area of circle with radius 20.0m is 1256.63706 square meters\n"
     ]
    }
   ],
   "source": [
    "import math\n",
    "\n",
    "# Given radius\n",
    "radius = 30\n",
    "\n",
    "# Calculating the area of a circle using the given radius\n",
    "area_of_circle = math.pi * radius ** 2\n",
    "print(f\"Area of circle with radius {radius}m is {area_of_circle:.5f} square meters\")\n",
    "\n",
    "# Calculating circumference of a circle with the given radius\n",
    "circum_of_circle = 2 * math.pi * radius\n",
    "print(f\"Circumference of circle with radius {radius}m is {circum_of_circle:.5f}m\")\n",
    "\n",
    "\n",
    "# Taking user input for radius and calculating area\n",
    "radius_input = float(input(\"Enter the radius of the circle: \"))\n",
    "area_of_circle_input = math.pi * radius_input ** 2\n",
    "\n",
    "# Display the calculated area based on user input\n",
    "print(f\"Area of circle with radius {radius_input}m is {area_of_circle_input:.5f} square meters\")"
   ]
  },
  {
   "cell_type": "markdown",
   "metadata": {},
   "source": [
    "#### Question 6"
   ]
  },
  {
   "cell_type": "code",
   "execution_count": 6,
   "metadata": {},
   "outputs": [
    {
     "name": "stdout",
     "output_type": "stream",
     "text": [
      "First name: Abubakar\n",
      "Last name: Idi\n",
      "Country: Nigeria\n",
      "Age: 29\n"
     ]
    }
   ],
   "source": [
    "first_name = input('Enter your first name:')\n",
    "last_name = input('Enter your last name:')\n",
    "country = input('Which country are you from? ')\n",
    "age = input('How old are you')\n",
    "\n",
    "print(f'First name: {first_name}')\n",
    "print(f'Last name: {last_name}')\n",
    "print(f'Country: {country}')\n",
    "print(f'Age: {age}')"
   ]
  },
  {
   "cell_type": "markdown",
   "metadata": {},
   "source": [
    "#### Question 7"
   ]
  },
  {
   "cell_type": "code",
   "execution_count": 14,
   "metadata": {},
   "outputs": [
    {
     "name": "stdout",
     "output_type": "stream",
     "text": [
      "['False', 'None', 'True', 'and', 'as', 'assert', 'async', 'await', 'break', 'class', 'continue', 'def', 'del', 'elif', 'else', 'except', 'finally', 'for', 'from', 'global', 'if', 'import', 'in', 'is', 'lambda', 'nonlocal', 'not', 'or', 'pass', 'raise', 'return', 'try', 'while', 'with', 'yield']\n"
     ]
    }
   ],
   "source": [
    "import keyword\n",
    "\n",
    "# Get all the keywords as a list\n",
    "print(keyword.kwlist)"
   ]
  }
 ],
 "metadata": {
  "kernelspec": {
   "display_name": "base",
   "language": "python",
   "name": "python3"
  },
  "language_info": {
   "codemirror_mode": {
    "name": "ipython",
    "version": 3
   },
   "file_extension": ".py",
   "mimetype": "text/x-python",
   "name": "python",
   "nbconvert_exporter": "python",
   "pygments_lexer": "ipython3",
   "version": "3.11.5"
  }
 },
 "nbformat": 4,
 "nbformat_minor": 2
}
